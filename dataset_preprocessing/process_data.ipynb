{
 "cells": [
  {
   "cell_type": "markdown",
   "id": "d926a374-2ae7-4f6f-bb9a-dbd0e37bdec2",
   "metadata": {},
   "source": [
    "# Super-Resolution Dataset Preparation\n",
    "This notebook will:\n",
    "1. Create the proper directory structure\n",
    "2. Split the data into train (80%), validation (10%), and test (10%) sets\n",
    "3. Extract frames from HR and LR videos"
   ]
  },
  {
   "cell_type": "code",
   "execution_count": 1,
   "id": "34ac8f0a-c0d8-4d54-907a-8eb2fee0d65d",
   "metadata": {},
   "outputs": [
    {
     "name": "stdout",
     "output_type": "stream",
     "text": [
      "Requirement already satisfied: opencv-python in /system/conda/miniconda3/envs/cloudspace/lib/python3.10/site-packages (4.11.0.86)\n",
      "Requirement already satisfied: numpy in /system/conda/miniconda3/envs/cloudspace/lib/python3.10/site-packages (1.26.4)\n",
      "Requirement already satisfied: tqdm in /system/conda/miniconda3/envs/cloudspace/lib/python3.10/site-packages (4.67.1)\n"
     ]
    }
   ],
   "source": [
    "# Install required packages\n",
    "!pip install opencv-python numpy tqdm\n",
    "\n",
    "# Import libraries\n",
    "import cv2\n",
    "import os\n",
    "import numpy as np\n",
    "import random\n",
    "from tqdm.notebook import tqdm\n",
    "import time"
   ]
  },
  {
   "cell_type": "code",
   "execution_count": 2,
   "id": "4878f7eb-c3de-44cb-900f-9e787b44a2ee",
   "metadata": {},
   "outputs": [],
   "source": [
    "# Configuration\n",
    "# Input directories containing videos\n",
    "hr_dir = '/teamspace/studios/this_studio/original_data/3_0x'\n",
    "lr_dir = '/teamspace/studios/this_studio/original_data/1_0x'\n",
    "\n",
    "# Output directory for dataset\n",
    "output_dir = '/teamspace/studios/this_studio/sr_dataset/3_0x'\n",
    "\n",
    "# Extract one frame every N frames (to reduce redundancy)\n",
    "sample_rate = 5\n",
    "\n",
    "# Random seed for reproducible splits\n",
    "random_seed = 42\n",
    "\n",
    "# Split ratios\n",
    "train_ratio = 0.8\n",
    "val_ratio = 0.1\n",
    "test_ratio = 0.1  # Automatically calculated as 1 - train_ratio - val_ratio"
   ]
  },
  {
   "cell_type": "code",
   "execution_count": 3,
   "id": "2605359e-ee28-4c6e-95ad-e0fd72628b29",
   "metadata": {},
   "outputs": [
    {
     "name": "stdout",
     "output_type": "stream",
     "text": [
      "Created directory structure in /teamspace/studios/this_studio/sr_dataset/3_0x\n"
     ]
    }
   ],
   "source": [
    "# Setup Directory Structure\n",
    "# Create main dataset directory\n",
    "os.makedirs(output_dir, exist_ok=True)\n",
    "\n",
    "# Create directories for train, val, test sets\n",
    "train_dir = os.path.join(output_dir, 'train')\n",
    "val_dir = os.path.join(output_dir, 'val')\n",
    "test_dir = os.path.join(output_dir, 'test')\n",
    "\n",
    "for split_dir in [train_dir, val_dir, test_dir]:\n",
    "    hr_output_dir = os.path.join(split_dir, 'HR')\n",
    "    lr_output_dir = os.path.join(split_dir, 'LR')\n",
    "    os.makedirs(hr_output_dir, exist_ok=True)\n",
    "    os.makedirs(lr_output_dir, exist_ok=True)\n",
    "    \n",
    "print(f\"Created directory structure in {output_dir}\")"
   ]
  },
  {
   "cell_type": "code",
   "execution_count": 4,
   "id": "5aeaabe9-51ff-4c91-8f5b-cd60552edabc",
   "metadata": {},
   "outputs": [
    {
     "name": "stdout",
     "output_type": "stream",
     "text": [
      "Found 95 HR videos and 95 LR videos\n",
      "Found 95 matching filenames\n",
      "Total video pairs to process: 95\n"
     ]
    }
   ],
   "source": [
    "# Find and Match Video Files\n",
    "# Find video files\n",
    "hr_files = sorted([f for f in os.listdir(hr_dir) if f.endswith(('.mov', '.mp4', '.avi'))])\n",
    "lr_files = sorted([f for f in os.listdir(lr_dir) if f.endswith(('.mov', '.mp4', '.avi'))])\n",
    "\n",
    "print(f\"Found {len(hr_files)} HR videos and {len(lr_files)} LR videos\")\n",
    "\n",
    "# Find matching pairs by filename\n",
    "common_files = set(hr_files).intersection(set(lr_files))\n",
    "\n",
    "if not common_files:\n",
    "    print(\"No matching filenames found. Pairing by index...\")\n",
    "    # Pair videos by their position in the sorted list\n",
    "    video_pairs = [(hr_files[i], lr_files[i]) for i in range(min(len(hr_files), len(lr_files)))]\n",
    "else:\n",
    "    print(f\"Found {len(common_files)} matching filenames\")\n",
    "    video_pairs = [(f, f) for f in common_files]\n",
    "\n",
    "print(f\"Total video pairs to process: {len(video_pairs)}\")"
   ]
  },
  {
   "cell_type": "code",
   "execution_count": 5,
   "id": "dc54e6e7-dff7-4216-83d5-70cb914db356",
   "metadata": {},
   "outputs": [
    {
     "name": "stdout",
     "output_type": "stream",
     "text": [
      "Split videos into:\n",
      "  Training set: 76 videos (80.0%)\n",
      "  Validation set: 9 videos (9.5%)\n",
      "  Test set: 10 videos (10.5%)\n"
     ]
    }
   ],
   "source": [
    "# Split Videos into Train, Validation, and Test Sets\n",
    "# Set random seed for reproducibility\n",
    "random.seed(random_seed)\n",
    "\n",
    "# Shuffle the video pairs\n",
    "shuffled_pairs = video_pairs.copy()\n",
    "random.shuffle(shuffled_pairs)\n",
    "\n",
    "# Calculate split indices\n",
    "total_videos = len(shuffled_pairs)\n",
    "train_size = int(total_videos * train_ratio)\n",
    "val_size = int(total_videos * val_ratio)\n",
    "test_size = total_videos - train_size - val_size\n",
    "\n",
    "# Split the videos\n",
    "train_pairs = shuffled_pairs[:train_size]\n",
    "val_pairs = shuffled_pairs[train_size:train_size + val_size]\n",
    "test_pairs = shuffled_pairs[train_size + val_size:]\n",
    "\n",
    "print(f\"Split videos into:\")\n",
    "print(f\"  Training set: {len(train_pairs)} videos ({len(train_pairs)/total_videos:.1%})\")\n",
    "print(f\"  Validation set: {len(val_pairs)} videos ({len(val_pairs)/total_videos:.1%})\")\n",
    "print(f\"  Test set: {len(test_pairs)} videos ({len(test_pairs)/total_videos:.1%})\")"
   ]
  },
  {
   "cell_type": "code",
   "execution_count": 6,
   "id": "657616aa-77e4-46d0-9150-82b428a0374f",
   "metadata": {},
   "outputs": [],
   "source": [
    "# Extract Frames from Videos for Each Split - Function Definition\n",
    "def extract_frames_for_split(video_pairs, split_name, hr_source_dir, lr_source_dir):\n",
    "    \"\"\"Extract frames from videos and save them in the appropriate split directory\"\"\"\n",
    "    split_dir = os.path.join(output_dir, split_name)\n",
    "    hr_output_dir = os.path.join(split_dir, 'HR')\n",
    "    lr_output_dir = os.path.join(split_dir, 'LR')\n",
    "    \n",
    "    # For meta_info.txt\n",
    "    meta_entries = []\n",
    "    total_saved_frames = 0\n",
    "    \n",
    "    for pair_idx, (hr_filename, lr_filename) in enumerate(tqdm(video_pairs, desc=f\"Processing {split_name} videos\")):\n",
    "        hr_path = os.path.join(hr_source_dir, hr_filename)\n",
    "        lr_path = os.path.join(lr_source_dir, lr_filename)\n",
    "        \n",
    "        hr_cap = cv2.VideoCapture(hr_path)\n",
    "        lr_cap = cv2.VideoCapture(lr_path)\n",
    "        \n",
    "        if not hr_cap.isOpened() or not lr_cap.isOpened():\n",
    "            print(f\"Could not open video pair: {hr_filename}, {lr_filename}\")\n",
    "            continue\n",
    "            \n",
    "        hr_frames = int(hr_cap.get(cv2.CAP_PROP_FRAME_COUNT))\n",
    "        lr_frames = int(lr_cap.get(cv2.CAP_PROP_FRAME_COUNT))\n",
    "        pair_frames = min(hr_frames, lr_frames)\n",
    "        \n",
    "        print(f\"\\nVideo {pair_idx+1}/{len(video_pairs)}: {hr_filename}\")\n",
    "        print(f\"  {pair_frames} frames available\")\n",
    "        \n",
    "        frame_count = 0\n",
    "        saved_count = 0\n",
    "        \n",
    "        # Process frames\n",
    "        with tqdm(total=pair_frames//sample_rate + 1, desc=f\"Extracting frames\") as pbar:\n",
    "            while frame_count < pair_frames:\n",
    "                hr_ret, hr_frame = hr_cap.read()\n",
    "                lr_ret, lr_frame = lr_cap.read()\n",
    "                \n",
    "                if not hr_ret or not lr_ret:\n",
    "                    break\n",
    "                    \n",
    "                # Save every Nth frame\n",
    "                if frame_count % sample_rate == 0:\n",
    "                    # Generate filenames with video info to avoid name collisions\n",
    "                    video_name = os.path.splitext(hr_filename)[0]\n",
    "                    frame_basename = f\"{video_name}_frame{saved_count:06d}\"\n",
    "                    hr_output_filename = f\"{frame_basename}.png\"\n",
    "                    lr_output_filename = f\"{frame_basename}.png\"\n",
    "                    \n",
    "                    hr_outpath = os.path.join(hr_output_dir, hr_output_filename)\n",
    "                    lr_outpath = os.path.join(lr_output_dir, lr_output_filename)\n",
    "                    \n",
    "                    # Save images\n",
    "                    cv2.imwrite(hr_outpath, hr_frame)\n",
    "                    cv2.imwrite(lr_outpath, lr_frame)\n",
    "                    \n",
    "                    # Add to meta entries\n",
    "                    meta_entries.append(f\"{hr_output_filename} {lr_output_filename}\")\n",
    "                    \n",
    "                    saved_count += 1\n",
    "                    pbar.update(1)\n",
    "                \n",
    "                frame_count += 1\n",
    "                \n",
    "        hr_cap.release()\n",
    "        lr_cap.release()\n",
    "        \n",
    "        print(f\"  Extracted {saved_count} frames from video {pair_idx+1}\")\n",
    "        total_saved_frames += saved_count\n",
    "    \n",
    "    # Write meta info file\n",
    "    meta_path = os.path.join(split_dir, 'meta_info.txt')\n",
    "    with open(meta_path, 'w') as f:\n",
    "        f.write('\\n'.join(meta_entries))\n",
    "    \n",
    "    print(f\"\\nTotal frames extracted for {split_name}: {total_saved_frames}\")\n",
    "    print(f\"Created meta_info.txt with {len(meta_entries)} entries\")\n",
    "    \n",
    "    return total_saved_frames"
   ]
  },
  {
   "cell_type": "code",
   "execution_count": 7,
   "id": "ff962dce-f82a-4071-aa89-43176c233b0b",
   "metadata": {},
   "outputs": [
    {
     "name": "stdout",
     "output_type": "stream",
     "text": [
      "Processing training set...\n"
     ]
    },
    {
     "data": {
      "application/vnd.jupyter.widget-view+json": {
       "model_id": "4019878dc87043d4924310c9142b1d3e",
       "version_major": 2,
       "version_minor": 0
      },
      "text/plain": [
       "Processing train videos:   0%|          | 0/76 [00:00<?, ?it/s]"
      ]
     },
     "metadata": {},
     "output_type": "display_data"
    },
    {
     "name": "stdout",
     "output_type": "stream",
     "text": [
      "\n",
      "Video 1/76: reading-3608-Original.mov\n",
      "  90 frames available\n"
     ]
    },
    {
     "data": {
      "application/vnd.jupyter.widget-view+json": {
       "model_id": "ac5df671a595444ba42625e93d32beb7",
       "version_major": 2,
       "version_minor": 0
      },
      "text/plain": [
       "Extracting frames:   0%|          | 0/19 [00:00<?, ?it/s]"
      ]
     },
     "metadata": {},
     "output_type": "display_data"
    },
    {
     "name": "stdout",
     "output_type": "stream",
     "text": [
      "  Extracted 18 frames from video 1\n",
      "\n",
      "Video 2/76: jellyfish-110877-Original.mov\n",
      "  90 frames available\n"
     ]
    },
    {
     "data": {
      "application/vnd.jupyter.widget-view+json": {
       "model_id": "41eb54d160aa419a98cfcb87b0767f9e",
       "version_major": 2,
       "version_minor": 0
      },
      "text/plain": [
       "Extracting frames:   0%|          | 0/19 [00:00<?, ?it/s]"
      ]
     },
     "metadata": {},
     "output_type": "display_data"
    },
    {
     "name": "stdout",
     "output_type": "stream",
     "text": [
      "  Extracted 18 frames from video 2\n",
      "\n",
      "Video 3/76: 166585.mov\n",
      "  90 frames available\n"
     ]
    },
    {
     "data": {
      "application/vnd.jupyter.widget-view+json": {
       "model_id": "d8ab3ca8553a4530bd1b135d4b9325bd",
       "version_major": 2,
       "version_minor": 0
      },
      "text/plain": [
       "Extracting frames:   0%|          | 0/19 [00:00<?, ?it/s]"
      ]
     },
     "metadata": {},
     "output_type": "display_data"
    },
    {
     "name": "stdout",
     "output_type": "stream",
     "text": [
      "  Extracted 18 frames from video 3\n",
      "\n",
      "Video 4/76: 158229.mov\n",
      "  90 frames available\n"
     ]
    },
    {
     "data": {
      "application/vnd.jupyter.widget-view+json": {
       "model_id": "f734dbc8a9e14ae4b693dddfc82d83de",
       "version_major": 2,
       "version_minor": 0
      },
      "text/plain": [
       "Extracting frames:   0%|          | 0/19 [00:00<?, ?it/s]"
      ]
     },
     "metadata": {},
     "output_type": "display_data"
    },
    {
     "name": "stdout",
     "output_type": "stream",
     "text": [
      "  Extracted 18 frames from video 4\n",
      "\n",
      "Video 5/76: hair-43633-Original.mov\n",
      "  90 frames available\n"
     ]
    },
    {
     "data": {
      "application/vnd.jupyter.widget-view+json": {
       "model_id": "82dbe20bb9484622a991ed24ef837680",
       "version_major": 2,
       "version_minor": 0
      },
      "text/plain": [
       "Extracting frames:   0%|          | 0/19 [00:00<?, ?it/s]"
      ]
     },
     "metadata": {},
     "output_type": "display_data"
    },
    {
     "name": "stdout",
     "output_type": "stream",
     "text": [
      "  Extracted 18 frames from video 5\n",
      "\n",
      "Video 6/76: eye-91698.mov\n",
      "  90 frames available\n"
     ]
    },
    {
     "data": {
      "application/vnd.jupyter.widget-view+json": {
       "model_id": "76ef1824ccdb42fc9f2c5030a506528b",
       "version_major": 2,
       "version_minor": 0
      },
      "text/plain": [
       "Extracting frames:   0%|          | 0/19 [00:00<?, ?it/s]"
      ]
     },
     "metadata": {},
     "output_type": "display_data"
    },
    {
     "name": "stdout",
     "output_type": "stream",
     "text": [
      "  Extracted 18 frames from video 6\n",
      "\n",
      "Video 7/76: DL115H.mov\n",
      "  90 frames available\n"
     ]
    },
    {
     "data": {
      "application/vnd.jupyter.widget-view+json": {
       "model_id": "d1916769f8d0455889d4937149a11bbb",
       "version_major": 2,
       "version_minor": 0
      },
      "text/plain": [
       "Extracting frames:   0%|          | 0/19 [00:00<?, ?it/s]"
      ]
     },
     "metadata": {},
     "output_type": "display_data"
    },
    {
     "name": "stdout",
     "output_type": "stream",
     "text": [
      "  Extracted 18 frames from video 7\n",
      "\n",
      "Video 8/76: road-57993-1080p.mov\n",
      "  90 frames available\n"
     ]
    },
    {
     "data": {
      "application/vnd.jupyter.widget-view+json": {
       "model_id": "251ebbe9274f4a37ae06ab96b4d48005",
       "version_major": 2,
       "version_minor": 0
      },
      "text/plain": [
       "Extracting frames:   0%|          | 0/19 [00:00<?, ?it/s]"
      ]
     },
     "metadata": {},
     "output_type": "display_data"
    },
    {
     "name": "stdout",
     "output_type": "stream",
     "text": [
      "  Extracted 18 frames from video 8\n",
      "\n",
      "Video 9/76: seoul-24603.mov\n",
      "  90 frames available\n"
     ]
    },
    {
     "data": {
      "application/vnd.jupyter.widget-view+json": {
       "model_id": "455e208a9c074c3c8c40c1854e06234f",
       "version_major": 2,
       "version_minor": 0
      },
      "text/plain": [
       "Extracting frames:   0%|          | 0/19 [00:00<?, ?it/s]"
      ]
     },
     "metadata": {},
     "output_type": "display_data"
    },
    {
     "name": "stdout",
     "output_type": "stream",
     "text": [
      "  Extracted 18 frames from video 9\n",
      "\n",
      "Video 10/76: river-44509-1080p.mov\n",
      "  90 frames available\n"
     ]
    },
    {
     "data": {
      "application/vnd.jupyter.widget-view+json": {
       "model_id": "c9a09125aa944773935832cb5580b438",
       "version_major": 2,
       "version_minor": 0
      },
      "text/plain": [
       "Extracting frames:   0%|          | 0/19 [00:00<?, ?it/s]"
      ]
     },
     "metadata": {},
     "output_type": "display_data"
    },
    {
     "name": "stdout",
     "output_type": "stream",
     "text": [
      "  Extracted 18 frames from video 10\n",
      "\n",
      "Video 11/76: bird-46026-Original.mov\n",
      "  90 frames available\n"
     ]
    },
    {
     "data": {
      "application/vnd.jupyter.widget-view+json": {
       "model_id": "7173a34ebcf847c0a08cfb3892ce7e73",
       "version_major": 2,
       "version_minor": 0
      },
      "text/plain": [
       "Extracting frames:   0%|          | 0/19 [00:00<?, ?it/s]"
      ]
     },
     "metadata": {},
     "output_type": "display_data"
    },
    {
     "name": "stdout",
     "output_type": "stream",
     "text": [
      "  Extracted 18 frames from video 11\n",
      "\n",
      "Video 12/76: mouth-9519.mov\n",
      "  90 frames available\n"
     ]
    },
    {
     "data": {
      "application/vnd.jupyter.widget-view+json": {
       "model_id": "df5293e552844c09850c514ddfe5db00",
       "version_major": 2,
       "version_minor": 0
      },
      "text/plain": [
       "Extracting frames:   0%|          | 0/19 [00:00<?, ?it/s]"
      ]
     },
     "metadata": {},
     "output_type": "display_data"
    },
    {
     "name": "stdout",
     "output_type": "stream",
     "text": [
      "  Extracted 18 frames from video 12\n",
      "\n",
      "Video 13/76: 158349.mov\n",
      "  90 frames available\n"
     ]
    },
    {
     "data": {
      "application/vnd.jupyter.widget-view+json": {
       "model_id": "c02345ee2c44400890ddd0d31834347f",
       "version_major": 2,
       "version_minor": 0
      },
      "text/plain": [
       "Extracting frames:   0%|          | 0/19 [00:00<?, ?it/s]"
      ]
     },
     "metadata": {},
     "output_type": "display_data"
    },
    {
     "name": "stdout",
     "output_type": "stream",
     "text": [
      "  Extracted 18 frames from video 13\n",
      "\n",
      "Video 14/76: daffodil-34826-1080p.mov\n",
      "  90 frames available\n"
     ]
    },
    {
     "data": {
      "application/vnd.jupyter.widget-view+json": {
       "model_id": "5fe5d43ff25d488195d54adec86114c2",
       "version_major": 2,
       "version_minor": 0
      },
      "text/plain": [
       "Extracting frames:   0%|          | 0/19 [00:00<?, ?it/s]"
      ]
     },
     "metadata": {},
     "output_type": "display_data"
    },
    {
     "name": "stdout",
     "output_type": "stream",
     "text": [
      "  Extracted 18 frames from video 14\n",
      "\n",
      "Video 15/76: grass-66810-1080p.mov\n",
      "  90 frames available\n"
     ]
    },
    {
     "data": {
      "application/vnd.jupyter.widget-view+json": {
       "model_id": "f859223dbf82496187a7aa452e6ae313",
       "version_major": 2,
       "version_minor": 0
      },
      "text/plain": [
       "Extracting frames:   0%|          | 0/19 [00:00<?, ?it/s]"
      ]
     },
     "metadata": {},
     "output_type": "display_data"
    },
    {
     "name": "stdout",
     "output_type": "stream",
     "text": [
      "  Extracted 18 frames from video 15\n",
      "\n",
      "Video 16/76: 141017.mov\n",
      "  90 frames available\n"
     ]
    },
    {
     "data": {
      "application/vnd.jupyter.widget-view+json": {
       "model_id": "b3ea71d9cd3b4caba54ce03c8fa89dd5",
       "version_major": 2,
       "version_minor": 0
      },
      "text/plain": [
       "Extracting frames:   0%|          | 0/19 [00:00<?, ?it/s]"
      ]
     },
     "metadata": {},
     "output_type": "display_data"
    },
    {
     "name": "stdout",
     "output_type": "stream",
     "text": [
      "  Extracted 18 frames from video 16\n",
      "\n",
      "Video 17/76: wheat-17285-Original.mov\n",
      "  90 frames available\n"
     ]
    },
    {
     "data": {
      "application/vnd.jupyter.widget-view+json": {
       "model_id": "ae30d1fc364e4ef9b342874c350707df",
       "version_major": 2,
       "version_minor": 0
      },
      "text/plain": [
       "Extracting frames:   0%|          | 0/19 [00:00<?, ?it/s]"
      ]
     },
     "metadata": {},
     "output_type": "display_data"
    },
    {
     "name": "stdout",
     "output_type": "stream",
     "text": [
      "  Extracted 18 frames from video 17\n",
      "\n",
      "Video 18/76: DL132H.mov\n",
      "  90 frames available\n"
     ]
    },
    {
     "data": {
      "application/vnd.jupyter.widget-view+json": {
       "model_id": "7e9a282e8e5a4c6e94aed4b5fb4b7eac",
       "version_major": 2,
       "version_minor": 0
      },
      "text/plain": [
       "Extracting frames:   0%|          | 0/19 [00:00<?, ?it/s]"
      ]
     },
     "metadata": {},
     "output_type": "display_data"
    },
    {
     "name": "stdout",
     "output_type": "stream",
     "text": [
      "  Extracted 18 frames from video 18\n",
      "\n",
      "Video 19/76: bridge-23544-1080p.mov\n",
      "  90 frames available\n"
     ]
    },
    {
     "data": {
      "application/vnd.jupyter.widget-view+json": {
       "model_id": "170e8fe884b64658aa2814c9afe38fed",
       "version_major": 2,
       "version_minor": 0
      },
      "text/plain": [
       "Extracting frames:   0%|          | 0/19 [00:00<?, ?it/s]"
      ]
     },
     "metadata": {},
     "output_type": "display_data"
    },
    {
     "name": "stdout",
     "output_type": "stream",
     "text": [
      "  Extracted 18 frames from video 19\n",
      "\n",
      "Video 20/76: library-846-1080p.mov\n",
      "  90 frames available\n"
     ]
    },
    {
     "data": {
      "application/vnd.jupyter.widget-view+json": {
       "model_id": "22e4143cec314eb98bc7260a40a066a4",
       "version_major": 2,
       "version_minor": 0
      },
      "text/plain": [
       "Extracting frames:   0%|          | 0/19 [00:00<?, ?it/s]"
      ]
     },
     "metadata": {},
     "output_type": "display_data"
    },
    {
     "name": "stdout",
     "output_type": "stream",
     "text": [
      "  Extracted 18 frames from video 20\n",
      "\n",
      "Video 21/76: mall-24114.mov\n",
      "  90 frames available\n"
     ]
    },
    {
     "data": {
      "application/vnd.jupyter.widget-view+json": {
       "model_id": "18c289b3b09d4f56b9a19c0c2cc5363c",
       "version_major": 2,
       "version_minor": 0
      },
      "text/plain": [
       "Extracting frames:   0%|          | 0/19 [00:00<?, ?it/s]"
      ]
     },
     "metadata": {},
     "output_type": "display_data"
    },
    {
     "name": "stdout",
     "output_type": "stream",
     "text": [
      "  Extracted 18 frames from video 21\n",
      "\n",
      "Video 22/76: squirrel-3904-Original.mov\n",
      "  90 frames available\n"
     ]
    },
    {
     "data": {
      "application/vnd.jupyter.widget-view+json": {
       "model_id": "b068ee546732424bbef0a66de65b86ed",
       "version_major": 2,
       "version_minor": 0
      },
      "text/plain": [
       "Extracting frames:   0%|          | 0/19 [00:00<?, ?it/s]"
      ]
     },
     "metadata": {},
     "output_type": "display_data"
    },
    {
     "name": "stdout",
     "output_type": "stream",
     "text": [
      "  Extracted 18 frames from video 22\n",
      "\n",
      "Video 23/76: cafe-22728-Original.mov\n",
      "  90 frames available\n"
     ]
    },
    {
     "data": {
      "application/vnd.jupyter.widget-view+json": {
       "model_id": "b7e61a6c1cc346769604347bd4454be9",
       "version_major": 2,
       "version_minor": 0
      },
      "text/plain": [
       "Extracting frames:   0%|          | 0/19 [00:00<?, ?it/s]"
      ]
     },
     "metadata": {},
     "output_type": "display_data"
    },
    {
     "name": "stdout",
     "output_type": "stream",
     "text": [
      "  Extracted 18 frames from video 23\n",
      "\n",
      "Video 24/76: rocket_launch-236-Original.mov\n",
      "  90 frames available\n"
     ]
    },
    {
     "data": {
      "application/vnd.jupyter.widget-view+json": {
       "model_id": "01830145c0564ba4ad52b46b7e6e1ae1",
       "version_major": 2,
       "version_minor": 0
      },
      "text/plain": [
       "Extracting frames:   0%|          | 0/19 [00:00<?, ?it/s]"
      ]
     },
     "metadata": {},
     "output_type": "display_data"
    },
    {
     "name": "stdout",
     "output_type": "stream",
     "text": [
      "  Extracted 18 frames from video 24\n",
      "\n",
      "Video 25/76: water_dragon-3779-1080p.mov\n",
      "  90 frames available\n"
     ]
    },
    {
     "data": {
      "application/vnd.jupyter.widget-view+json": {
       "model_id": "bef68fbc298f4d0dacf62243c91b9f47",
       "version_major": 2,
       "version_minor": 0
      },
      "text/plain": [
       "Extracting frames:   0%|          | 0/19 [00:00<?, ?it/s]"
      ]
     },
     "metadata": {},
     "output_type": "display_data"
    },
    {
     "name": "stdout",
     "output_type": "stream",
     "text": [
      "  Extracted 18 frames from video 25\n",
      "\n",
      "Video 26/76: dog-109816.mov\n",
      "  90 frames available\n"
     ]
    },
    {
     "data": {
      "application/vnd.jupyter.widget-view+json": {
       "model_id": "86c4ab2190f24085af90991da09a8cff",
       "version_major": 2,
       "version_minor": 0
      },
      "text/plain": [
       "Extracting frames:   0%|          | 0/19 [00:00<?, ?it/s]"
      ]
     },
     "metadata": {},
     "output_type": "display_data"
    },
    {
     "name": "stdout",
     "output_type": "stream",
     "text": [
      "  Extracted 18 frames from video 26\n",
      "\n",
      "Video 27/76: CHA121H.mov\n",
      "  90 frames available\n"
     ]
    },
    {
     "data": {
      "application/vnd.jupyter.widget-view+json": {
       "model_id": "04fc4ad18904402791b4ff756f915158",
       "version_major": 2,
       "version_minor": 0
      },
      "text/plain": [
       "Extracting frames:   0%|          | 0/19 [00:00<?, ?it/s]"
      ]
     },
     "metadata": {},
     "output_type": "display_data"
    },
    {
     "name": "stdout",
     "output_type": "stream",
     "text": [
      "  Extracted 18 frames from video 27\n",
      "\n",
      "Video 28/76: frog-113403-Original.mov\n",
      "  90 frames available\n"
     ]
    },
    {
     "data": {
      "application/vnd.jupyter.widget-view+json": {
       "model_id": "2b2a13d2d87a43c490deb9380173a0ca",
       "version_major": 2,
       "version_minor": 0
      },
      "text/plain": [
       "Extracting frames:   0%|          | 0/19 [00:00<?, ?it/s]"
      ]
     },
     "metadata": {},
     "output_type": "display_data"
    },
    {
     "name": "stdout",
     "output_type": "stream",
     "text": [
      "  Extracted 18 frames from video 28\n",
      "\n",
      "Video 29/76: wood_anemones-112429-Original.mov\n",
      "  90 frames available\n"
     ]
    },
    {
     "data": {
      "application/vnd.jupyter.widget-view+json": {
       "model_id": "ea6bff579b2c4f63b410ac8a5eebfa11",
       "version_major": 2,
       "version_minor": 0
      },
      "text/plain": [
       "Extracting frames:   0%|          | 0/19 [00:00<?, ?it/s]"
      ]
     },
     "metadata": {},
     "output_type": "display_data"
    },
    {
     "name": "stdout",
     "output_type": "stream",
     "text": [
      "  Extracted 18 frames from video 29\n",
      "\n",
      "Video 30/76: jigsaw-4973-Original.mov\n",
      "  90 frames available\n"
     ]
    },
    {
     "data": {
      "application/vnd.jupyter.widget-view+json": {
       "model_id": "ac54be1553874e2f9980ed972cb31c30",
       "version_major": 2,
       "version_minor": 0
      },
      "text/plain": [
       "Extracting frames:   0%|          | 0/19 [00:00<?, ?it/s]"
      ]
     },
     "metadata": {},
     "output_type": "display_data"
    },
    {
     "name": "stdout",
     "output_type": "stream",
     "text": [
      "  Extracted 18 frames from video 30\n",
      "\n",
      "Video 31/76: cat-72306.mov\n",
      "  90 frames available\n"
     ]
    },
    {
     "data": {
      "application/vnd.jupyter.widget-view+json": {
       "model_id": "8e36226b0b254659b866c52d1ce2f8d9",
       "version_major": 2,
       "version_minor": 0
      },
      "text/plain": [
       "Extracting frames:   0%|          | 0/19 [00:00<?, ?it/s]"
      ]
     },
     "metadata": {},
     "output_type": "display_data"
    },
    {
     "name": "stdout",
     "output_type": "stream",
     "text": [
      "  Extracted 18 frames from video 31\n",
      "\n",
      "Video 32/76: hawaii-21113-1080p.mov\n",
      "  90 frames available\n"
     ]
    },
    {
     "data": {
      "application/vnd.jupyter.widget-view+json": {
       "model_id": "9450eaee5e674ea394da088c01cbff05",
       "version_major": 2,
       "version_minor": 0
      },
      "text/plain": [
       "Extracting frames:   0%|          | 0/19 [00:00<?, ?it/s]"
      ]
     },
     "metadata": {},
     "output_type": "display_data"
    },
    {
     "name": "stdout",
     "output_type": "stream",
     "text": [
      "  Extracted 18 frames from video 32\n",
      "\n",
      "Video 33/76: dog-116041.mov\n",
      "  90 frames available\n"
     ]
    },
    {
     "data": {
      "application/vnd.jupyter.widget-view+json": {
       "model_id": "818e7e4bdac04e44acc28c9933c25424",
       "version_major": 2,
       "version_minor": 0
      },
      "text/plain": [
       "Extracting frames:   0%|          | 0/19 [00:00<?, ?it/s]"
      ]
     },
     "metadata": {},
     "output_type": "display_data"
    },
    {
     "name": "stdout",
     "output_type": "stream",
     "text": [
      "  Extracted 18 frames from video 33\n",
      "\n",
      "Video 34/76: plant-24105-1080p.mov\n",
      "  90 frames available\n"
     ]
    },
    {
     "data": {
      "application/vnd.jupyter.widget-view+json": {
       "model_id": "b9977e7ad6d44ebcb79914fc4b5d7a5f",
       "version_major": 2,
       "version_minor": 0
      },
      "text/plain": [
       "Extracting frames:   0%|          | 0/19 [00:00<?, ?it/s]"
      ]
     },
     "metadata": {},
     "output_type": "display_data"
    },
    {
     "name": "stdout",
     "output_type": "stream",
     "text": [
      "  Extracted 18 frames from video 34\n",
      "\n",
      "Video 35/76: 166390.mov\n",
      "  90 frames available\n"
     ]
    },
    {
     "data": {
      "application/vnd.jupyter.widget-view+json": {
       "model_id": "3c416b48992e45e8a83155bf48824e61",
       "version_major": 2,
       "version_minor": 0
      },
      "text/plain": [
       "Extracting frames:   0%|          | 0/19 [00:00<?, ?it/s]"
      ]
     },
     "metadata": {},
     "output_type": "display_data"
    },
    {
     "name": "stdout",
     "output_type": "stream",
     "text": [
      "  Extracted 18 frames from video 35\n",
      "\n",
      "Video 36/76: 160767.mov\n",
      "  90 frames available\n"
     ]
    },
    {
     "data": {
      "application/vnd.jupyter.widget-view+json": {
       "model_id": "48f93e9d0fda4c4ea3ce7ac3139b2184",
       "version_major": 2,
       "version_minor": 0
      },
      "text/plain": [
       "Extracting frames:   0%|          | 0/19 [00:00<?, ?it/s]"
      ]
     },
     "metadata": {},
     "output_type": "display_data"
    },
    {
     "name": "stdout",
     "output_type": "stream",
     "text": [
      "  Extracted 18 frames from video 36\n",
      "\n",
      "Video 37/76: DL125H.mov\n",
      "  90 frames available\n"
     ]
    },
    {
     "data": {
      "application/vnd.jupyter.widget-view+json": {
       "model_id": "8eff3cb202164b98a76891bb20e5effe",
       "version_major": 2,
       "version_minor": 0
      },
      "text/plain": [
       "Extracting frames:   0%|          | 0/19 [00:00<?, ?it/s]"
      ]
     },
     "metadata": {},
     "output_type": "display_data"
    },
    {
     "name": "stdout",
     "output_type": "stream",
     "text": [
      "  Extracted 18 frames from video 37\n",
      "\n",
      "Video 38/76: DL127H.mov\n",
      "  90 frames available\n"
     ]
    },
    {
     "data": {
      "application/vnd.jupyter.widget-view+json": {
       "model_id": "dc2ed443ca6a4287954499a9142ebf4e",
       "version_major": 2,
       "version_minor": 0
      },
      "text/plain": [
       "Extracting frames:   0%|          | 0/19 [00:00<?, ?it/s]"
      ]
     },
     "metadata": {},
     "output_type": "display_data"
    },
    {
     "name": "stdout",
     "output_type": "stream",
     "text": [
      "  Extracted 18 frames from video 38\n",
      "\n",
      "Video 39/76: 000708_VTXHD.mov\n",
      "  90 frames available\n"
     ]
    },
    {
     "data": {
      "application/vnd.jupyter.widget-view+json": {
       "model_id": "f02ca6c3ea814f9e89938275c860b212",
       "version_major": 2,
       "version_minor": 0
      },
      "text/plain": [
       "Extracting frames:   0%|          | 0/19 [00:00<?, ?it/s]"
      ]
     },
     "metadata": {},
     "output_type": "display_data"
    },
    {
     "name": "stdout",
     "output_type": "stream",
     "text": [
      "  Extracted 18 frames from video 39\n",
      "\n",
      "Video 40/76: ocean-21528-Original.mov\n",
      "  90 frames available\n"
     ]
    },
    {
     "data": {
      "application/vnd.jupyter.widget-view+json": {
       "model_id": "66b0f038723a41bd8685ef623a6149e5",
       "version_major": 2,
       "version_minor": 0
      },
      "text/plain": [
       "Extracting frames:   0%|          | 0/19 [00:00<?, ?it/s]"
      ]
     },
     "metadata": {},
     "output_type": "display_data"
    },
    {
     "name": "stdout",
     "output_type": "stream",
     "text": [
      "  Extracted 18 frames from video 40\n",
      "\n",
      "Video 41/76: street-19627-1080p.mov\n",
      "  90 frames available\n"
     ]
    },
    {
     "data": {
      "application/vnd.jupyter.widget-view+json": {
       "model_id": "d9bd28091ce6448a83d60472d44c4313",
       "version_major": 2,
       "version_minor": 0
      },
      "text/plain": [
       "Extracting frames:   0%|          | 0/19 [00:00<?, ?it/s]"
      ]
     },
     "metadata": {},
     "output_type": "display_data"
    },
    {
     "name": "stdout",
     "output_type": "stream",
     "text": [
      "  Extracted 18 frames from video 41\n",
      "\n",
      "Video 42/76: 158980.mov\n",
      "  90 frames available\n"
     ]
    },
    {
     "data": {
      "application/vnd.jupyter.widget-view+json": {
       "model_id": "5aa3a106c6e94c8c823f8e08342a8c16",
       "version_major": 2,
       "version_minor": 0
      },
      "text/plain": [
       "Extracting frames:   0%|          | 0/19 [00:00<?, ?it/s]"
      ]
     },
     "metadata": {},
     "output_type": "display_data"
    },
    {
     "name": "stdout",
     "output_type": "stream",
     "text": [
      "  Extracted 18 frames from video 42\n",
      "\n",
      "Video 43/76: skyscrapers-91744-1080p.mov\n",
      "  90 frames available\n"
     ]
    },
    {
     "data": {
      "application/vnd.jupyter.widget-view+json": {
       "model_id": "4a9743663eae4db482f64b9dd2b615f2",
       "version_major": 2,
       "version_minor": 0
      },
      "text/plain": [
       "Extracting frames:   0%|          | 0/19 [00:00<?, ?it/s]"
      ]
     },
     "metadata": {},
     "output_type": "display_data"
    },
    {
     "name": "stdout",
     "output_type": "stream",
     "text": [
      "  Extracted 18 frames from video 43\n",
      "\n",
      "Video 44/76: eye-34848.mov\n",
      "  90 frames available\n"
     ]
    },
    {
     "data": {
      "application/vnd.jupyter.widget-view+json": {
       "model_id": "d0bcb42c19ed4ee7bb83d53b102709c1",
       "version_major": 2,
       "version_minor": 0
      },
      "text/plain": [
       "Extracting frames:   0%|          | 0/19 [00:00<?, ?it/s]"
      ]
     },
     "metadata": {},
     "output_type": "display_data"
    },
    {
     "name": "stdout",
     "output_type": "stream",
     "text": [
      "  Extracted 18 frames from video 44\n",
      "\n",
      "Video 45/76: guitarist-139-Original.mov\n",
      "  90 frames available\n"
     ]
    },
    {
     "data": {
      "application/vnd.jupyter.widget-view+json": {
       "model_id": "9aa41fc3cb36490494fb4d9bba3093ff",
       "version_major": 2,
       "version_minor": 0
      },
      "text/plain": [
       "Extracting frames:   0%|          | 0/19 [00:00<?, ?it/s]"
      ]
     },
     "metadata": {},
     "output_type": "display_data"
    },
    {
     "name": "stdout",
     "output_type": "stream",
     "text": [
      "  Extracted 18 frames from video 45\n",
      "\n",
      "Video 46/76: coastline-3581-1080p.mov\n",
      "  90 frames available\n"
     ]
    },
    {
     "data": {
      "application/vnd.jupyter.widget-view+json": {
       "model_id": "83f1341e443845bcbe0ee29bab9c9add",
       "version_major": 2,
       "version_minor": 0
      },
      "text/plain": [
       "Extracting frames:   0%|          | 0/19 [00:00<?, ?it/s]"
      ]
     },
     "metadata": {},
     "output_type": "display_data"
    },
    {
     "name": "stdout",
     "output_type": "stream",
     "text": [
      "  Extracted 18 frames from video 46\n",
      "\n",
      "Video 47/76: coffee-46989-1080p.mov\n",
      "  90 frames available\n"
     ]
    },
    {
     "data": {
      "application/vnd.jupyter.widget-view+json": {
       "model_id": "58cb4811f13a4c71b1862ed7a3e055bb",
       "version_major": 2,
       "version_minor": 0
      },
      "text/plain": [
       "Extracting frames:   0%|          | 0/19 [00:00<?, ?it/s]"
      ]
     },
     "metadata": {},
     "output_type": "display_data"
    },
    {
     "name": "stdout",
     "output_type": "stream",
     "text": [
      "  Extracted 18 frames from video 47\n",
      "\n",
      "Video 48/76: man-125430.mov\n",
      "  90 frames available\n"
     ]
    },
    {
     "data": {
      "application/vnd.jupyter.widget-view+json": {
       "model_id": "58f1deec951044a9b5e9286770c31966",
       "version_major": 2,
       "version_minor": 0
      },
      "text/plain": [
       "Extracting frames:   0%|          | 0/19 [00:00<?, ?it/s]"
      ]
     },
     "metadata": {},
     "output_type": "display_data"
    },
    {
     "name": "stdout",
     "output_type": "stream",
     "text": [
      "  Extracted 18 frames from video 48\n",
      "\n",
      "Video 49/76: DL126H.mov\n",
      "  90 frames available\n"
     ]
    },
    {
     "data": {
      "application/vnd.jupyter.widget-view+json": {
       "model_id": "0f6308bffc2a4c5884e8cdebd3a8badb",
       "version_major": 2,
       "version_minor": 0
      },
      "text/plain": [
       "Extracting frames:   0%|          | 0/19 [00:00<?, ?it/s]"
      ]
     },
     "metadata": {},
     "output_type": "display_data"
    },
    {
     "name": "stdout",
     "output_type": "stream",
     "text": [
      "  Extracted 18 frames from video 49\n",
      "\n",
      "Video 50/76: sand-73847-1080p.mov\n",
      "  90 frames available\n"
     ]
    },
    {
     "data": {
      "application/vnd.jupyter.widget-view+json": {
       "model_id": "64e07f069d82446c8e58291da26c836c",
       "version_major": 2,
       "version_minor": 0
      },
      "text/plain": [
       "Extracting frames:   0%|          | 0/19 [00:00<?, ?it/s]"
      ]
     },
     "metadata": {},
     "output_type": "display_data"
    },
    {
     "name": "stdout",
     "output_type": "stream",
     "text": [
      "  Extracted 18 frames from video 50\n",
      "\n",
      "Video 51/76: fishing-44534-Original.mov\n",
      "  90 frames available\n"
     ]
    },
    {
     "data": {
      "application/vnd.jupyter.widget-view+json": {
       "model_id": "8f3bf6b02421480eb5c4ee21078af760",
       "version_major": 2,
       "version_minor": 0
      },
      "text/plain": [
       "Extracting frames:   0%|          | 0/19 [00:00<?, ?it/s]"
      ]
     },
     "metadata": {},
     "output_type": "display_data"
    },
    {
     "name": "stdout",
     "output_type": "stream",
     "text": [
      "  Extracted 18 frames from video 51\n",
      "\n",
      "Video 52/76: 150872.mov\n",
      "  90 frames available\n"
     ]
    },
    {
     "data": {
      "application/vnd.jupyter.widget-view+json": {
       "model_id": "42ffe660e3be4b83baafe27546289282",
       "version_major": 2,
       "version_minor": 0
      },
      "text/plain": [
       "Extracting frames:   0%|          | 0/19 [00:00<?, ?it/s]"
      ]
     },
     "metadata": {},
     "output_type": "display_data"
    },
    {
     "name": "stdout",
     "output_type": "stream",
     "text": [
      "  Extracted 18 frames from video 52\n",
      "\n",
      "Video 53/76: 000795_VTXHD.mov\n",
      "  90 frames available\n"
     ]
    },
    {
     "data": {
      "application/vnd.jupyter.widget-view+json": {
       "model_id": "ce12c6fd466943519068122bac2d0f9c",
       "version_major": 2,
       "version_minor": 0
      },
      "text/plain": [
       "Extracting frames:   0%|          | 0/19 [00:00<?, ?it/s]"
      ]
     },
     "metadata": {},
     "output_type": "display_data"
    },
    {
     "name": "stdout",
     "output_type": "stream",
     "text": [
      "  Extracted 18 frames from video 53\n",
      "\n",
      "Video 54/76: world-1992-Original.mov\n",
      "  90 frames available\n"
     ]
    },
    {
     "data": {
      "application/vnd.jupyter.widget-view+json": {
       "model_id": "92ad12284f774e83b0dc1388e3136a3b",
       "version_major": 2,
       "version_minor": 0
      },
      "text/plain": [
       "Extracting frames:   0%|          | 0/19 [00:00<?, ?it/s]"
      ]
     },
     "metadata": {},
     "output_type": "display_data"
    },
    {
     "name": "stdout",
     "output_type": "stream",
     "text": [
      "  Extracted 18 frames from video 54\n",
      "\n",
      "Video 55/76: ranunculus-22634-1080p.mov\n",
      "  90 frames available\n"
     ]
    },
    {
     "data": {
      "application/vnd.jupyter.widget-view+json": {
       "model_id": "5502a4d8ed2b4baaaf23c9940ce14e00",
       "version_major": 2,
       "version_minor": 0
      },
      "text/plain": [
       "Extracting frames:   0%|          | 0/19 [00:00<?, ?it/s]"
      ]
     },
     "metadata": {},
     "output_type": "display_data"
    },
    {
     "name": "stdout",
     "output_type": "stream",
     "text": [
      "  Extracted 18 frames from video 55\n",
      "\n",
      "Video 56/76: macro-34855-1080p.mov\n",
      "  90 frames available\n"
     ]
    },
    {
     "data": {
      "application/vnd.jupyter.widget-view+json": {
       "model_id": "22648ac288d046678922293cfa9bf7f7",
       "version_major": 2,
       "version_minor": 0
      },
      "text/plain": [
       "Extracting frames:   0%|          | 0/19 [00:00<?, ?it/s]"
      ]
     },
     "metadata": {},
     "output_type": "display_data"
    },
    {
     "name": "stdout",
     "output_type": "stream",
     "text": [
      "  Extracted 18 frames from video 56\n",
      "\n",
      "Video 57/76: DL134H.mov\n",
      "  90 frames available\n"
     ]
    },
    {
     "data": {
      "application/vnd.jupyter.widget-view+json": {
       "model_id": "0eea49e6705b4988b658983924d7635d",
       "version_major": 2,
       "version_minor": 0
      },
      "text/plain": [
       "Extracting frames:   0%|          | 0/19 [00:00<?, ?it/s]"
      ]
     },
     "metadata": {},
     "output_type": "display_data"
    },
    {
     "name": "stdout",
     "output_type": "stream",
     "text": [
      "  Extracted 18 frames from video 57\n",
      "\n",
      "Video 58/76: seoul-21985-Original.mov\n",
      "  90 frames available\n"
     ]
    },
    {
     "data": {
      "application/vnd.jupyter.widget-view+json": {
       "model_id": "bff6865182864ff694d03b8dc483e519",
       "version_major": 2,
       "version_minor": 0
      },
      "text/plain": [
       "Extracting frames:   0%|          | 0/19 [00:00<?, ?it/s]"
      ]
     },
     "metadata": {},
     "output_type": "display_data"
    },
    {
     "name": "stdout",
     "output_type": "stream",
     "text": [
      "  Extracted 18 frames from video 58\n",
      "\n",
      "Video 59/76: squirrel-2717-Original.mov\n",
      "  90 frames available\n"
     ]
    },
    {
     "data": {
      "application/vnd.jupyter.widget-view+json": {
       "model_id": "7e9461a72777467fb5b668616d709a5c",
       "version_major": 2,
       "version_minor": 0
      },
      "text/plain": [
       "Extracting frames:   0%|          | 0/19 [00:00<?, ?it/s]"
      ]
     },
     "metadata": {},
     "output_type": "display_data"
    },
    {
     "name": "stdout",
     "output_type": "stream",
     "text": [
      "  Extracted 18 frames from video 59\n",
      "\n",
      "Video 60/76: DL114H.mov\n",
      "  90 frames available\n"
     ]
    },
    {
     "data": {
      "application/vnd.jupyter.widget-view+json": {
       "model_id": "61fc28339319436a903028d5e1449116",
       "version_major": 2,
       "version_minor": 0
      },
      "text/plain": [
       "Extracting frames:   0%|          | 0/19 [00:00<?, ?it/s]"
      ]
     },
     "metadata": {},
     "output_type": "display_data"
    },
    {
     "name": "stdout",
     "output_type": "stream",
     "text": [
      "  Extracted 18 frames from video 60\n",
      "\n",
      "Video 61/76: flower-26790-Original.mov\n",
      "  90 frames available\n"
     ]
    },
    {
     "data": {
      "application/vnd.jupyter.widget-view+json": {
       "model_id": "648af7736dfb43a99c074e8a20b9cd46",
       "version_major": 2,
       "version_minor": 0
      },
      "text/plain": [
       "Extracting frames:   0%|          | 0/19 [00:00<?, ?it/s]"
      ]
     },
     "metadata": {},
     "output_type": "display_data"
    },
    {
     "name": "stdout",
     "output_type": "stream",
     "text": [
      "  Extracted 18 frames from video 61\n",
      "\n",
      "Video 62/76: woman-77006.mov\n",
      "  90 frames available\n"
     ]
    },
    {
     "data": {
      "application/vnd.jupyter.widget-view+json": {
       "model_id": "63e0a2bf9b424a35a01ddb198811b2b8",
       "version_major": 2,
       "version_minor": 0
      },
      "text/plain": [
       "Extracting frames:   0%|          | 0/19 [00:00<?, ?it/s]"
      ]
     },
     "metadata": {},
     "output_type": "display_data"
    },
    {
     "name": "stdout",
     "output_type": "stream",
     "text": [
      "  Extracted 18 frames from video 62\n",
      "\n",
      "Video 63/76: jellyfish-26818-1080p.mov\n",
      "  90 frames available\n"
     ]
    },
    {
     "data": {
      "application/vnd.jupyter.widget-view+json": {
       "model_id": "5be1f20740a24f78b16ceb681a074118",
       "version_major": 2,
       "version_minor": 0
      },
      "text/plain": [
       "Extracting frames:   0%|          | 0/19 [00:00<?, ?it/s]"
      ]
     },
     "metadata": {},
     "output_type": "display_data"
    },
    {
     "name": "stdout",
     "output_type": "stream",
     "text": [
      "  Extracted 18 frames from video 63\n",
      "\n",
      "Video 64/76: india-1643-Original.mov\n",
      "  90 frames available\n"
     ]
    },
    {
     "data": {
      "application/vnd.jupyter.widget-view+json": {
       "model_id": "eaf286b7007140cfb32f8e844d1b7937",
       "version_major": 2,
       "version_minor": 0
      },
      "text/plain": [
       "Extracting frames:   0%|          | 0/19 [00:00<?, ?it/s]"
      ]
     },
     "metadata": {},
     "output_type": "display_data"
    },
    {
     "name": "stdout",
     "output_type": "stream",
     "text": [
      "  Extracted 18 frames from video 64\n",
      "\n",
      "Video 65/76: castle-29224-Original.mov\n",
      "  90 frames available\n"
     ]
    },
    {
     "data": {
      "application/vnd.jupyter.widget-view+json": {
       "model_id": "23ae4e9a99714b149250555c6eaf093a",
       "version_major": 2,
       "version_minor": 0
      },
      "text/plain": [
       "Extracting frames:   0%|          | 0/19 [00:00<?, ?it/s]"
      ]
     },
     "metadata": {},
     "output_type": "display_data"
    },
    {
     "name": "stdout",
     "output_type": "stream",
     "text": [
      "  Extracted 18 frames from video 65\n",
      "\n",
      "Video 66/76: honey-17310-Original.mov\n",
      "  90 frames available\n"
     ]
    },
    {
     "data": {
      "application/vnd.jupyter.widget-view+json": {
       "model_id": "2670117cb024424498f347e0cc46de54",
       "version_major": 2,
       "version_minor": 0
      },
      "text/plain": [
       "Extracting frames:   0%|          | 0/19 [00:00<?, ?it/s]"
      ]
     },
     "metadata": {},
     "output_type": "display_data"
    },
    {
     "name": "stdout",
     "output_type": "stream",
     "text": [
      "  Extracted 18 frames from video 66\n",
      "\n",
      "Video 67/76: seoul-21115-1080p.mov\n",
      "  90 frames available\n"
     ]
    },
    {
     "data": {
      "application/vnd.jupyter.widget-view+json": {
       "model_id": "b7c9c5cc092542e58f2ffce492048964",
       "version_major": 2,
       "version_minor": 0
      },
      "text/plain": [
       "Extracting frames:   0%|          | 0/19 [00:00<?, ?it/s]"
      ]
     },
     "metadata": {},
     "output_type": "display_data"
    },
    {
     "name": "stdout",
     "output_type": "stream",
     "text": [
      "  Extracted 18 frames from video 67\n",
      "\n",
      "Video 68/76: bullfinch-2797-Original.mov\n",
      "  90 frames available\n"
     ]
    },
    {
     "data": {
      "application/vnd.jupyter.widget-view+json": {
       "model_id": "4ff9938f84154387811f91f7954a6c71",
       "version_major": 2,
       "version_minor": 0
      },
      "text/plain": [
       "Extracting frames:   0%|          | 0/19 [00:00<?, ?it/s]"
      ]
     },
     "metadata": {},
     "output_type": "display_data"
    },
    {
     "name": "stdout",
     "output_type": "stream",
     "text": [
      "  Extracted 18 frames from video 68\n",
      "\n",
      "Video 69/76: 163869.mov\n",
      "  90 frames available\n"
     ]
    },
    {
     "data": {
      "application/vnd.jupyter.widget-view+json": {
       "model_id": "a569a5ee0bde48e295cbc14d35bb666a",
       "version_major": 2,
       "version_minor": 0
      },
      "text/plain": [
       "Extracting frames:   0%|          | 0/19 [00:00<?, ?it/s]"
      ]
     },
     "metadata": {},
     "output_type": "display_data"
    },
    {
     "name": "stdout",
     "output_type": "stream",
     "text": [
      "  Extracted 18 frames from video 69\n",
      "\n",
      "Video 70/76: ocean-65560-Original.mov\n",
      "  90 frames available\n"
     ]
    },
    {
     "data": {
      "application/vnd.jupyter.widget-view+json": {
       "model_id": "18a23be876144e38a19078ddf92a9b9a",
       "version_major": 2,
       "version_minor": 0
      },
      "text/plain": [
       "Extracting frames:   0%|          | 0/19 [00:00<?, ?it/s]"
      ]
     },
     "metadata": {},
     "output_type": "display_data"
    },
    {
     "name": "stdout",
     "output_type": "stream",
     "text": [
      "  Extracted 18 frames from video 70\n",
      "\n",
      "Video 71/76: 165827.mov\n",
      "  90 frames available\n"
     ]
    },
    {
     "data": {
      "application/vnd.jupyter.widget-view+json": {
       "model_id": "a7e78411a84f4215a73f117aab0eeada",
       "version_major": 2,
       "version_minor": 0
      },
      "text/plain": [
       "Extracting frames:   0%|          | 0/19 [00:00<?, ?it/s]"
      ]
     },
     "metadata": {},
     "output_type": "display_data"
    },
    {
     "name": "stdout",
     "output_type": "stream",
     "text": [
      "  Extracted 18 frames from video 71\n",
      "\n",
      "Video 72/76: cat-65438-1080p.mov\n",
      "  90 frames available\n"
     ]
    },
    {
     "data": {
      "application/vnd.jupyter.widget-view+json": {
       "model_id": "e8992e2f35ed4c04b36e923e83ea7788",
       "version_major": 2,
       "version_minor": 0
      },
      "text/plain": [
       "Extracting frames:   0%|          | 0/19 [00:00<?, ?it/s]"
      ]
     },
     "metadata": {},
     "output_type": "display_data"
    },
    {
     "name": "stdout",
     "output_type": "stream",
     "text": [
      "  Extracted 18 frames from video 72\n",
      "\n",
      "Video 73/76: DL139H.mov\n",
      "  90 frames available\n"
     ]
    },
    {
     "data": {
      "application/vnd.jupyter.widget-view+json": {
       "model_id": "622395218c884fd6b6c91b0759273c14",
       "version_major": 2,
       "version_minor": 0
      },
      "text/plain": [
       "Extracting frames:   0%|          | 0/19 [00:00<?, ?it/s]"
      ]
     },
     "metadata": {},
     "output_type": "display_data"
    },
    {
     "name": "stdout",
     "output_type": "stream",
     "text": [
      "  Extracted 18 frames from video 73\n",
      "\n",
      "Video 74/76: model-21147-Original.mov\n",
      "  90 frames available\n"
     ]
    },
    {
     "data": {
      "application/vnd.jupyter.widget-view+json": {
       "model_id": "e283d660a7d34cc78ecc59157682d9e4",
       "version_major": 2,
       "version_minor": 0
      },
      "text/plain": [
       "Extracting frames:   0%|          | 0/19 [00:00<?, ?it/s]"
      ]
     },
     "metadata": {},
     "output_type": "display_data"
    },
    {
     "name": "stdout",
     "output_type": "stream",
     "text": [
      "  Extracted 18 frames from video 74\n",
      "\n",
      "Video 75/76: robin-21723-Original.mov\n",
      "  90 frames available\n"
     ]
    },
    {
     "data": {
      "application/vnd.jupyter.widget-view+json": {
       "model_id": "e17e7ef3e2c34874a3e9c2c2d0ea2284",
       "version_major": 2,
       "version_minor": 0
      },
      "text/plain": [
       "Extracting frames:   0%|          | 0/19 [00:00<?, ?it/s]"
      ]
     },
     "metadata": {},
     "output_type": "display_data"
    },
    {
     "name": "stdout",
     "output_type": "stream",
     "text": [
      "  Extracted 18 frames from video 75\n",
      "\n",
      "Video 76/76: FP008068HD02.mov\n",
      "  90 frames available\n"
     ]
    },
    {
     "data": {
      "application/vnd.jupyter.widget-view+json": {
       "model_id": "6bca46f365b34a85b7a6917bc50b2643",
       "version_major": 2,
       "version_minor": 0
      },
      "text/plain": [
       "Extracting frames:   0%|          | 0/19 [00:00<?, ?it/s]"
      ]
     },
     "metadata": {},
     "output_type": "display_data"
    },
    {
     "name": "stdout",
     "output_type": "stream",
     "text": [
      "  Extracted 18 frames from video 76\n",
      "\n",
      "Total frames extracted for train: 1368\n",
      "Created meta_info.txt with 1368 entries\n",
      "\n",
      "Processing validation set...\n"
     ]
    },
    {
     "data": {
      "application/vnd.jupyter.widget-view+json": {
       "model_id": "66ea71e0caa5454aa8ff74957fe55fd3",
       "version_major": 2,
       "version_minor": 0
      },
      "text/plain": [
       "Processing val videos:   0%|          | 0/9 [00:00<?, ?it/s]"
      ]
     },
     "metadata": {},
     "output_type": "display_data"
    },
    {
     "name": "stdout",
     "output_type": "stream",
     "text": [
      "\n",
      "Video 1/9: wolf-27400-1080p.mov\n",
      "  90 frames available\n"
     ]
    },
    {
     "data": {
      "application/vnd.jupyter.widget-view+json": {
       "model_id": "4a2a2a633a8f4c70890c578676cb6d5b",
       "version_major": 2,
       "version_minor": 0
      },
      "text/plain": [
       "Extracting frames:   0%|          | 0/19 [00:00<?, ?it/s]"
      ]
     },
     "metadata": {},
     "output_type": "display_data"
    },
    {
     "name": "stdout",
     "output_type": "stream",
     "text": [
      "  Extracted 18 frames from video 1\n",
      "\n",
      "Video 2/9: CHA120H.mov\n",
      "  90 frames available\n"
     ]
    },
    {
     "data": {
      "application/vnd.jupyter.widget-view+json": {
       "model_id": "7601f0d2eb90494883b950cd3a2b77c6",
       "version_major": 2,
       "version_minor": 0
      },
      "text/plain": [
       "Extracting frames:   0%|          | 0/19 [00:00<?, ?it/s]"
      ]
     },
     "metadata": {},
     "output_type": "display_data"
    },
    {
     "name": "stdout",
     "output_type": "stream",
     "text": [
      "  Extracted 18 frames from video 2\n",
      "\n",
      "Video 3/9: nature-31377-1080p.mov\n",
      "  90 frames available\n"
     ]
    },
    {
     "data": {
      "application/vnd.jupyter.widget-view+json": {
       "model_id": "cb0502092a974e839f47e0b4d5997060",
       "version_major": 2,
       "version_minor": 0
      },
      "text/plain": [
       "Extracting frames:   0%|          | 0/19 [00:00<?, ?it/s]"
      ]
     },
     "metadata": {},
     "output_type": "display_data"
    },
    {
     "name": "stdout",
     "output_type": "stream",
     "text": [
      "  Extracted 18 frames from video 3\n",
      "\n",
      "Video 4/9: snail-3012-1080p.mov\n",
      "  90 frames available\n"
     ]
    },
    {
     "data": {
      "application/vnd.jupyter.widget-view+json": {
       "model_id": "4131b072997d468dafcb0ecc08af2f29",
       "version_major": 2,
       "version_minor": 0
      },
      "text/plain": [
       "Extracting frames:   0%|          | 0/19 [00:00<?, ?it/s]"
      ]
     },
     "metadata": {},
     "output_type": "display_data"
    },
    {
     "name": "stdout",
     "output_type": "stream",
     "text": [
      "  Extracted 18 frames from video 4\n",
      "\n",
      "Video 5/9: owl-18244-Original.mov\n",
      "  90 frames available\n"
     ]
    },
    {
     "data": {
      "application/vnd.jupyter.widget-view+json": {
       "model_id": "e1b7834fd75b4c10a76cabd60ae90621",
       "version_major": 2,
       "version_minor": 0
      },
      "text/plain": [
       "Extracting frames:   0%|          | 0/19 [00:00<?, ?it/s]"
      ]
     },
     "metadata": {},
     "output_type": "display_data"
    },
    {
     "name": "stdout",
     "output_type": "stream",
     "text": [
      "  Extracted 18 frames from video 5\n",
      "\n",
      "Video 6/9: 163333.mov\n",
      "  90 frames available\n"
     ]
    },
    {
     "data": {
      "application/vnd.jupyter.widget-view+json": {
       "model_id": "b1d673da6e5043ca8522bf96e3011e4e",
       "version_major": 2,
       "version_minor": 0
      },
      "text/plain": [
       "Extracting frames:   0%|          | 0/19 [00:00<?, ?it/s]"
      ]
     },
     "metadata": {},
     "output_type": "display_data"
    },
    {
     "name": "stdout",
     "output_type": "stream",
     "text": [
      "  Extracted 18 frames from video 6\n",
      "\n",
      "Video 7/9: butterfly-12060-Original.mov\n",
      "  90 frames available\n"
     ]
    },
    {
     "data": {
      "application/vnd.jupyter.widget-view+json": {
       "model_id": "fc878723ef024fe5ae30090dc3981965",
       "version_major": 2,
       "version_minor": 0
      },
      "text/plain": [
       "Extracting frames:   0%|          | 0/19 [00:00<?, ?it/s]"
      ]
     },
     "metadata": {},
     "output_type": "display_data"
    },
    {
     "name": "stdout",
     "output_type": "stream",
     "text": [
      "  Extracted 18 frames from video 7\n",
      "\n",
      "Video 8/9: work-40813.mov\n",
      "  90 frames available\n"
     ]
    },
    {
     "data": {
      "application/vnd.jupyter.widget-view+json": {
       "model_id": "3f480268493c4ab1a5033686f8a4f0b7",
       "version_major": 2,
       "version_minor": 0
      },
      "text/plain": [
       "Extracting frames:   0%|          | 0/19 [00:00<?, ?it/s]"
      ]
     },
     "metadata": {},
     "output_type": "display_data"
    },
    {
     "name": "stdout",
     "output_type": "stream",
     "text": [
      "  Extracted 18 frames from video 8\n",
      "\n",
      "Video 9/9: beach-33022.mov\n",
      "  90 frames available\n"
     ]
    },
    {
     "data": {
      "application/vnd.jupyter.widget-view+json": {
       "model_id": "ab6beec1af1c4a7f895547a75395d0f7",
       "version_major": 2,
       "version_minor": 0
      },
      "text/plain": [
       "Extracting frames:   0%|          | 0/19 [00:00<?, ?it/s]"
      ]
     },
     "metadata": {},
     "output_type": "display_data"
    },
    {
     "name": "stdout",
     "output_type": "stream",
     "text": [
      "  Extracted 18 frames from video 9\n",
      "\n",
      "Total frames extracted for val: 162\n",
      "Created meta_info.txt with 162 entries\n",
      "\n",
      "Processing test set...\n"
     ]
    },
    {
     "data": {
      "application/vnd.jupyter.widget-view+json": {
       "model_id": "54feb0f18fa64eeeb10f624200873f71",
       "version_major": 2,
       "version_minor": 0
      },
      "text/plain": [
       "Processing test videos:   0%|          | 0/10 [00:00<?, ?it/s]"
      ]
     },
     "metadata": {},
     "output_type": "display_data"
    },
    {
     "name": "stdout",
     "output_type": "stream",
     "text": [
      "\n",
      "Video 1/10: bee-30470-1080p.mov\n",
      "  90 frames available\n"
     ]
    },
    {
     "data": {
      "application/vnd.jupyter.widget-view+json": {
       "model_id": "cf007c66a4b24238b1d8059946a70ee9",
       "version_major": 2,
       "version_minor": 0
      },
      "text/plain": [
       "Extracting frames:   0%|          | 0/19 [00:00<?, ?it/s]"
      ]
     },
     "metadata": {},
     "output_type": "display_data"
    },
    {
     "name": "stdout",
     "output_type": "stream",
     "text": [
      "  Extracted 18 frames from video 1\n",
      "\n",
      "Video 2/10: building-21472-Original.mov\n",
      "  90 frames available\n"
     ]
    },
    {
     "data": {
      "application/vnd.jupyter.widget-view+json": {
       "model_id": "0727a94e8f58441e9845a4cd602d6602",
       "version_major": 2,
       "version_minor": 0
      },
      "text/plain": [
       "Extracting frames:   0%|          | 0/19 [00:00<?, ?it/s]"
      ]
     },
     "metadata": {},
     "output_type": "display_data"
    },
    {
     "name": "stdout",
     "output_type": "stream",
     "text": [
      "  Extracted 18 frames from video 2\n",
      "\n",
      "Video 3/10: ferris_wheel-18386-Original.mov\n",
      "  90 frames available\n"
     ]
    },
    {
     "data": {
      "application/vnd.jupyter.widget-view+json": {
       "model_id": "bb1caeea7bb04258834a8bab5079869a",
       "version_major": 2,
       "version_minor": 0
      },
      "text/plain": [
       "Extracting frames:   0%|          | 0/19 [00:00<?, ?it/s]"
      ]
     },
     "metadata": {},
     "output_type": "display_data"
    },
    {
     "name": "stdout",
     "output_type": "stream",
     "text": [
      "  Extracted 18 frames from video 3\n",
      "\n",
      "Video 4/10: 000086_VTXHD.mov\n",
      "  72 frames available\n"
     ]
    },
    {
     "data": {
      "application/vnd.jupyter.widget-view+json": {
       "model_id": "c292e17d9bfe441e838249c4953c889d",
       "version_major": 2,
       "version_minor": 0
      },
      "text/plain": [
       "Extracting frames:   0%|          | 0/15 [00:00<?, ?it/s]"
      ]
     },
     "metadata": {},
     "output_type": "display_data"
    },
    {
     "name": "stdout",
     "output_type": "stream",
     "text": [
      "  Extracted 15 frames from video 4\n",
      "\n",
      "Video 5/10: lion-94169.mov\n",
      "  90 frames available\n"
     ]
    },
    {
     "data": {
      "application/vnd.jupyter.widget-view+json": {
       "model_id": "790bdcf85f2c4a77afec20aec42cf69d",
       "version_major": 2,
       "version_minor": 0
      },
      "text/plain": [
       "Extracting frames:   0%|          | 0/19 [00:00<?, ?it/s]"
      ]
     },
     "metadata": {},
     "output_type": "display_data"
    },
    {
     "name": "stdout",
     "output_type": "stream",
     "text": [
      "  Extracted 18 frames from video 5\n",
      "\n",
      "Video 6/10: 152740.mov\n",
      "  90 frames available\n"
     ]
    },
    {
     "data": {
      "application/vnd.jupyter.widget-view+json": {
       "model_id": "1cc89cc74e964b6eb35fffdb633be35f",
       "version_major": 2,
       "version_minor": 0
      },
      "text/plain": [
       "Extracting frames:   0%|          | 0/19 [00:00<?, ?it/s]"
      ]
     },
     "metadata": {},
     "output_type": "display_data"
    },
    {
     "name": "stdout",
     "output_type": "stream",
     "text": [
      "  Extracted 18 frames from video 6\n",
      "\n",
      "Video 7/10: plant-26637-1080p.mov\n",
      "  90 frames available\n"
     ]
    },
    {
     "data": {
      "application/vnd.jupyter.widget-view+json": {
       "model_id": "570cdc642ab84716992125baede23ecb",
       "version_major": 2,
       "version_minor": 0
      },
      "text/plain": [
       "Extracting frames:   0%|          | 0/19 [00:00<?, ?it/s]"
      ]
     },
     "metadata": {},
     "output_type": "display_data"
    },
    {
     "name": "stdout",
     "output_type": "stream",
     "text": [
      "  Extracted 18 frames from video 7\n",
      "\n",
      "Video 8/10: FP007097HD01.mov\n",
      "  90 frames available\n"
     ]
    },
    {
     "data": {
      "application/vnd.jupyter.widget-view+json": {
       "model_id": "5796c0dcc5e64220af797f4a9bb8ea4e",
       "version_major": 2,
       "version_minor": 0
      },
      "text/plain": [
       "Extracting frames:   0%|          | 0/19 [00:00<?, ?it/s]"
      ]
     },
     "metadata": {},
     "output_type": "display_data"
    },
    {
     "name": "stdout",
     "output_type": "stream",
     "text": [
      "  Extracted 18 frames from video 8\n",
      "\n",
      "Video 9/10: 166393.mov\n",
      "  90 frames available\n"
     ]
    },
    {
     "data": {
      "application/vnd.jupyter.widget-view+json": {
       "model_id": "9efb37b6338547ffbb31c3ca05101438",
       "version_major": 2,
       "version_minor": 0
      },
      "text/plain": [
       "Extracting frames:   0%|          | 0/19 [00:00<?, ?it/s]"
      ]
     },
     "metadata": {},
     "output_type": "display_data"
    },
    {
     "name": "stdout",
     "output_type": "stream",
     "text": [
      "  Extracted 18 frames from video 9\n",
      "\n",
      "Video 10/10: nature-42420-Original.mov\n",
      "  90 frames available\n"
     ]
    },
    {
     "data": {
      "application/vnd.jupyter.widget-view+json": {
       "model_id": "7adb3ce80242431eb5fb14407c5ba0b5",
       "version_major": 2,
       "version_minor": 0
      },
      "text/plain": [
       "Extracting frames:   0%|          | 0/19 [00:00<?, ?it/s]"
      ]
     },
     "metadata": {},
     "output_type": "display_data"
    },
    {
     "name": "stdout",
     "output_type": "stream",
     "text": [
      "  Extracted 18 frames from video 10\n",
      "\n",
      "Total frames extracted for test: 177\n",
      "Created meta_info.txt with 177 entries\n"
     ]
    }
   ],
   "source": [
    "# Extract frames for each split\n",
    "print(\"Processing training set...\")\n",
    "train_frames = extract_frames_for_split(train_pairs, 'train', hr_dir, lr_dir)\n",
    "\n",
    "print(\"\\nProcessing validation set...\")\n",
    "val_frames = extract_frames_for_split(val_pairs, 'val', hr_dir, lr_dir)\n",
    "\n",
    "print(\"\\nProcessing test set...\")\n",
    "test_frames = extract_frames_for_split(test_pairs, 'test', hr_dir, lr_dir)"
   ]
  },
  {
   "cell_type": "code",
   "execution_count": 8,
   "id": "22f633ca-f1c7-4b97-8700-735d3ac1703c",
   "metadata": {},
   "outputs": [
    {
     "name": "stdout",
     "output_type": "stream",
     "text": [
      "Installing BasicSR...\n"
     ]
    },
    {
     "name": "stdout",
     "output_type": "stream",
     "text": [
      "Requirement already satisfied: basicsr in /system/conda/miniconda3/envs/cloudspace/lib/python3.10/site-packages (1.4.2)\n",
      "Requirement already satisfied: addict in /system/conda/miniconda3/envs/cloudspace/lib/python3.10/site-packages (from basicsr) (2.4.0)\n",
      "Requirement already satisfied: future in /system/conda/miniconda3/envs/cloudspace/lib/python3.10/site-packages (from basicsr) (1.0.0)\n",
      "Requirement already satisfied: lmdb in /system/conda/miniconda3/envs/cloudspace/lib/python3.10/site-packages (from basicsr) (1.6.2)\n",
      "Requirement already satisfied: numpy>=1.17 in /system/conda/miniconda3/envs/cloudspace/lib/python3.10/site-packages (from basicsr) (1.26.4)\n",
      "Requirement already satisfied: opencv-python in /system/conda/miniconda3/envs/cloudspace/lib/python3.10/site-packages (from basicsr) (4.11.0.86)\n",
      "Requirement already satisfied: Pillow in /system/conda/miniconda3/envs/cloudspace/lib/python3.10/site-packages (from basicsr) (11.1.0)\n",
      "Requirement already satisfied: pyyaml in /system/conda/miniconda3/envs/cloudspace/lib/python3.10/site-packages (from basicsr) (6.0.2)\n",
      "Requirement already satisfied: requests in /system/conda/miniconda3/envs/cloudspace/lib/python3.10/site-packages (from basicsr) (2.32.3)\n",
      "Requirement already satisfied: scikit-image in /system/conda/miniconda3/envs/cloudspace/lib/python3.10/site-packages (from basicsr) (0.25.2)\n",
      "Requirement already satisfied: scipy in /system/conda/miniconda3/envs/cloudspace/lib/python3.10/site-packages (from basicsr) (1.11.4)\n",
      "Requirement already satisfied: tb-nightly in /system/conda/miniconda3/envs/cloudspace/lib/python3.10/site-packages (from basicsr) (2.20.0a20250225)\n",
      "Requirement already satisfied: torch>=1.7 in /system/conda/miniconda3/envs/cloudspace/lib/python3.10/site-packages (from basicsr) (2.7.0)\n",
      "Requirement already satisfied: torchvision in /system/conda/miniconda3/envs/cloudspace/lib/python3.10/site-packages (from basicsr) (0.22.0)\n",
      "Requirement already satisfied: tqdm in /system/conda/miniconda3/envs/cloudspace/lib/python3.10/site-packages (from basicsr) (4.67.1)\n",
      "Requirement already satisfied: yapf in /system/conda/miniconda3/envs/cloudspace/lib/python3.10/site-packages (from basicsr) (0.43.0)\n",
      "Requirement already satisfied: filelock in /system/conda/miniconda3/envs/cloudspace/lib/python3.10/site-packages (from torch>=1.7->basicsr) (3.17.0)\n",
      "Requirement already satisfied: typing-extensions>=4.10.0 in /system/conda/miniconda3/envs/cloudspace/lib/python3.10/site-packages (from torch>=1.7->basicsr) (4.12.2)\n",
      "Requirement already satisfied: sympy>=1.13.3 in /system/conda/miniconda3/envs/cloudspace/lib/python3.10/site-packages (from torch>=1.7->basicsr) (1.13.3)\n",
      "Requirement already satisfied: networkx in /system/conda/miniconda3/envs/cloudspace/lib/python3.10/site-packages (from torch>=1.7->basicsr) (3.4.2)\n",
      "Requirement already satisfied: jinja2 in /system/conda/miniconda3/envs/cloudspace/lib/python3.10/site-packages (from torch>=1.7->basicsr) (3.1.5)\n",
      "Requirement already satisfied: fsspec in /system/conda/miniconda3/envs/cloudspace/lib/python3.10/site-packages (from torch>=1.7->basicsr) (2025.2.0)\n",
      "Requirement already satisfied: nvidia-cuda-nvrtc-cu12==12.6.77 in /system/conda/miniconda3/envs/cloudspace/lib/python3.10/site-packages (from torch>=1.7->basicsr) (12.6.77)\n",
      "Requirement already satisfied: nvidia-cuda-runtime-cu12==12.6.77 in /system/conda/miniconda3/envs/cloudspace/lib/python3.10/site-packages (from torch>=1.7->basicsr) (12.6.77)\n",
      "Requirement already satisfied: nvidia-cuda-cupti-cu12==12.6.80 in /system/conda/miniconda3/envs/cloudspace/lib/python3.10/site-packages (from torch>=1.7->basicsr) (12.6.80)\n",
      "Requirement already satisfied: nvidia-cudnn-cu12==9.5.1.17 in /system/conda/miniconda3/envs/cloudspace/lib/python3.10/site-packages (from torch>=1.7->basicsr) (9.5.1.17)\n",
      "Requirement already satisfied: nvidia-cublas-cu12==12.6.4.1 in /system/conda/miniconda3/envs/cloudspace/lib/python3.10/site-packages (from torch>=1.7->basicsr) (12.6.4.1)\n",
      "Requirement already satisfied: nvidia-cufft-cu12==11.3.0.4 in /system/conda/miniconda3/envs/cloudspace/lib/python3.10/site-packages (from torch>=1.7->basicsr) (11.3.0.4)\n",
      "Requirement already satisfied: nvidia-curand-cu12==10.3.7.77 in /system/conda/miniconda3/envs/cloudspace/lib/python3.10/site-packages (from torch>=1.7->basicsr) (10.3.7.77)\n",
      "Requirement already satisfied: nvidia-cusolver-cu12==11.7.1.2 in /system/conda/miniconda3/envs/cloudspace/lib/python3.10/site-packages (from torch>=1.7->basicsr) (11.7.1.2)\n",
      "Requirement already satisfied: nvidia-cusparse-cu12==12.5.4.2 in /system/conda/miniconda3/envs/cloudspace/lib/python3.10/site-packages (from torch>=1.7->basicsr) (12.5.4.2)\n",
      "Requirement already satisfied: nvidia-cusparselt-cu12==0.6.3 in /system/conda/miniconda3/envs/cloudspace/lib/python3.10/site-packages (from torch>=1.7->basicsr) (0.6.3)\n",
      "Requirement already satisfied: nvidia-nccl-cu12==2.26.2 in /system/conda/miniconda3/envs/cloudspace/lib/python3.10/site-packages (from torch>=1.7->basicsr) (2.26.2)\n",
      "Requirement already satisfied: nvidia-nvtx-cu12==12.6.77 in /system/conda/miniconda3/envs/cloudspace/lib/python3.10/site-packages (from torch>=1.7->basicsr) (12.6.77)\n",
      "Requirement already satisfied: nvidia-nvjitlink-cu12==12.6.85 in /system/conda/miniconda3/envs/cloudspace/lib/python3.10/site-packages (from torch>=1.7->basicsr) (12.6.85)\n",
      "Requirement already satisfied: nvidia-cufile-cu12==1.11.1.6 in /system/conda/miniconda3/envs/cloudspace/lib/python3.10/site-packages (from torch>=1.7->basicsr) (1.11.1.6)\n",
      "Requirement already satisfied: triton==3.3.0 in /system/conda/miniconda3/envs/cloudspace/lib/python3.10/site-packages (from torch>=1.7->basicsr) (3.3.0)\n",
      "Requirement already satisfied: setuptools>=40.8.0 in /system/conda/miniconda3/envs/cloudspace/lib/python3.10/site-packages (from triton==3.3.0->torch>=1.7->basicsr) (75.8.0)\n",
      "Requirement already satisfied: charset-normalizer<4,>=2 in /system/conda/miniconda3/envs/cloudspace/lib/python3.10/site-packages (from requests->basicsr) (3.4.1)\n",
      "Requirement already satisfied: idna<4,>=2.5 in /system/conda/miniconda3/envs/cloudspace/lib/python3.10/site-packages (from requests->basicsr) (3.10)\n",
      "Requirement already satisfied: urllib3<3,>=1.21.1 in /system/conda/miniconda3/envs/cloudspace/lib/python3.10/site-packages (from requests->basicsr) (2.3.0)\n",
      "Requirement already satisfied: certifi>=2017.4.17 in /system/conda/miniconda3/envs/cloudspace/lib/python3.10/site-packages (from requests->basicsr) (2025.1.31)\n",
      "Requirement already satisfied: imageio!=2.35.0,>=2.33 in /system/conda/miniconda3/envs/cloudspace/lib/python3.10/site-packages (from scikit-image->basicsr) (2.37.0)\n",
      "Requirement already satisfied: tifffile>=2022.8.12 in /system/conda/miniconda3/envs/cloudspace/lib/python3.10/site-packages (from scikit-image->basicsr) (2025.2.18)\n",
      "Requirement already satisfied: packaging>=21 in /system/conda/miniconda3/envs/cloudspace/lib/python3.10/site-packages (from scikit-image->basicsr) (24.2)\n",
      "Requirement already satisfied: lazy-loader>=0.4 in /system/conda/miniconda3/envs/cloudspace/lib/python3.10/site-packages (from scikit-image->basicsr) (0.4)\n",
      "Requirement already satisfied: absl-py>=0.4 in /system/conda/miniconda3/envs/cloudspace/lib/python3.10/site-packages (from tb-nightly->basicsr) (2.1.0)\n",
      "Requirement already satisfied: grpcio>=1.48.2 in /system/conda/miniconda3/envs/cloudspace/lib/python3.10/site-packages (from tb-nightly->basicsr) (1.70.0)\n",
      "Requirement already satisfied: markdown>=2.6.8 in /system/conda/miniconda3/envs/cloudspace/lib/python3.10/site-packages (from tb-nightly->basicsr) (3.7)\n",
      "Requirement already satisfied: protobuf!=4.24.0,>=3.19.6 in /system/conda/miniconda3/envs/cloudspace/lib/python3.10/site-packages (from tb-nightly->basicsr) (4.23.4)\n",
      "Requirement already satisfied: six>1.9 in /system/conda/miniconda3/envs/cloudspace/lib/python3.10/site-packages (from tb-nightly->basicsr) (1.17.0)\n",
      "Requirement already satisfied: tensorboard-data-server<0.8.0,>=0.7.0 in /system/conda/miniconda3/envs/cloudspace/lib/python3.10/site-packages (from tb-nightly->basicsr) (0.7.2)\n",
      "Requirement already satisfied: werkzeug>=1.0.1 in /system/conda/miniconda3/envs/cloudspace/lib/python3.10/site-packages (from tb-nightly->basicsr) (3.1.3)\n",
      "Requirement already satisfied: platformdirs>=3.5.1 in /system/conda/miniconda3/envs/cloudspace/lib/python3.10/site-packages (from yapf->basicsr) (4.3.6)\n",
      "Requirement already satisfied: tomli>=2.0.1 in /system/conda/miniconda3/envs/cloudspace/lib/python3.10/site-packages (from yapf->basicsr) (2.2.1)\n",
      "Requirement already satisfied: mpmath<1.4,>=1.1.0 in /system/conda/miniconda3/envs/cloudspace/lib/python3.10/site-packages (from sympy>=1.13.3->torch>=1.7->basicsr) (1.3.0)\n",
      "Requirement already satisfied: MarkupSafe>=2.1.1 in /system/conda/miniconda3/envs/cloudspace/lib/python3.10/site-packages (from werkzeug>=1.0.1->tb-nightly->basicsr) (3.0.2)\n",
      "Note: you may need to restart the kernel to use updated packages.\n",
      "BasicSR installed, importing modules...\n"
     ]
    },
    {
     "ename": "ModuleNotFoundError",
     "evalue": "No module named 'torchvision.transforms.functional_tensor'",
     "output_type": "error",
     "traceback": [
      "\u001b[0;31m---------------------------------------------------------------------------\u001b[0m",
      "\u001b[0;31mModuleNotFoundError\u001b[0m                       Traceback (most recent call last)",
      "Cell \u001b[0;32mIn[8], line 11\u001b[0m\n\u001b[1;32m      8\u001b[0m \u001b[38;5;28mprint\u001b[39m(\u001b[38;5;124m\"\u001b[39m\u001b[38;5;124mBasicSR installed, importing modules...\u001b[39m\u001b[38;5;124m\"\u001b[39m)\n\u001b[1;32m     10\u001b[0m \u001b[38;5;66;03m# After installation, we need to import modules\u001b[39;00m\n\u001b[0;32m---> 11\u001b[0m \u001b[38;5;28;01mfrom\u001b[39;00m\u001b[38;5;250m \u001b[39m\u001b[38;5;21;01mbasicsr\u001b[39;00m\u001b[38;5;21;01m.\u001b[39;00m\u001b[38;5;21;01mutils\u001b[39;00m\u001b[38;5;250m \u001b[39m\u001b[38;5;28;01mimport\u001b[39;00m scandir\n\u001b[1;32m     12\u001b[0m \u001b[38;5;28;01mfrom\u001b[39;00m\u001b[38;5;250m \u001b[39m\u001b[38;5;21;01mbasicsr\u001b[39;00m\u001b[38;5;21;01m.\u001b[39;00m\u001b[38;5;21;01mutils\u001b[39;00m\u001b[38;5;21;01m.\u001b[39;00m\u001b[38;5;21;01mlmdb_util\u001b[39;00m\u001b[38;5;250m \u001b[39m\u001b[38;5;28;01mimport\u001b[39;00m make_lmdb_from_imgs\n\u001b[1;32m     13\u001b[0m \u001b[38;5;28;01mimport\u001b[39;00m\u001b[38;5;250m \u001b[39m\u001b[38;5;21;01mos\u001b[39;00m\u001b[38;5;21;01m.\u001b[39;00m\u001b[38;5;21;01mpath\u001b[39;00m\u001b[38;5;250m \u001b[39m\u001b[38;5;28;01mas\u001b[39;00m\u001b[38;5;250m \u001b[39m\u001b[38;5;21;01mosp\u001b[39;00m\n",
      "File \u001b[0;32m/home/zeus/miniconda3/envs/cloudspace/lib/python3.10/site-packages/basicsr/__init__.py:4\u001b[0m\n\u001b[1;32m      1\u001b[0m \u001b[38;5;66;03m# https://github.com/xinntao/BasicSR\u001b[39;00m\n\u001b[1;32m      2\u001b[0m \u001b[38;5;66;03m# flake8: noqa\u001b[39;00m\n\u001b[1;32m      3\u001b[0m \u001b[38;5;28;01mfrom\u001b[39;00m\u001b[38;5;250m \u001b[39m\u001b[38;5;21;01m.\u001b[39;00m\u001b[38;5;21;01marchs\u001b[39;00m\u001b[38;5;250m \u001b[39m\u001b[38;5;28;01mimport\u001b[39;00m \u001b[38;5;241m*\u001b[39m\n\u001b[0;32m----> 4\u001b[0m \u001b[38;5;28;01mfrom\u001b[39;00m\u001b[38;5;250m \u001b[39m\u001b[38;5;21;01m.\u001b[39;00m\u001b[38;5;21;01mdata\u001b[39;00m\u001b[38;5;250m \u001b[39m\u001b[38;5;28;01mimport\u001b[39;00m \u001b[38;5;241m*\u001b[39m\n\u001b[1;32m      5\u001b[0m \u001b[38;5;28;01mfrom\u001b[39;00m\u001b[38;5;250m \u001b[39m\u001b[38;5;21;01m.\u001b[39;00m\u001b[38;5;21;01mlosses\u001b[39;00m\u001b[38;5;250m \u001b[39m\u001b[38;5;28;01mimport\u001b[39;00m \u001b[38;5;241m*\u001b[39m\n\u001b[1;32m      6\u001b[0m \u001b[38;5;28;01mfrom\u001b[39;00m\u001b[38;5;250m \u001b[39m\u001b[38;5;21;01m.\u001b[39;00m\u001b[38;5;21;01mmetrics\u001b[39;00m\u001b[38;5;250m \u001b[39m\u001b[38;5;28;01mimport\u001b[39;00m \u001b[38;5;241m*\u001b[39m\n",
      "File \u001b[0;32m/home/zeus/miniconda3/envs/cloudspace/lib/python3.10/site-packages/basicsr/data/__init__.py:22\u001b[0m\n\u001b[1;32m     20\u001b[0m dataset_filenames \u001b[38;5;241m=\u001b[39m [osp\u001b[38;5;241m.\u001b[39msplitext(osp\u001b[38;5;241m.\u001b[39mbasename(v))[\u001b[38;5;241m0\u001b[39m] \u001b[38;5;28;01mfor\u001b[39;00m v \u001b[38;5;129;01min\u001b[39;00m scandir(data_folder) \u001b[38;5;28;01mif\u001b[39;00m v\u001b[38;5;241m.\u001b[39mendswith(\u001b[38;5;124m'\u001b[39m\u001b[38;5;124m_dataset.py\u001b[39m\u001b[38;5;124m'\u001b[39m)]\n\u001b[1;32m     21\u001b[0m \u001b[38;5;66;03m# import all the dataset modules\u001b[39;00m\n\u001b[0;32m---> 22\u001b[0m _dataset_modules \u001b[38;5;241m=\u001b[39m [importlib\u001b[38;5;241m.\u001b[39mimport_module(\u001b[38;5;124mf\u001b[39m\u001b[38;5;124m'\u001b[39m\u001b[38;5;124mbasicsr.data.\u001b[39m\u001b[38;5;132;01m{\u001b[39;00mfile_name\u001b[38;5;132;01m}\u001b[39;00m\u001b[38;5;124m'\u001b[39m) \u001b[38;5;28;01mfor\u001b[39;00m file_name \u001b[38;5;129;01min\u001b[39;00m dataset_filenames]\n\u001b[1;32m     25\u001b[0m \u001b[38;5;28;01mdef\u001b[39;00m\u001b[38;5;250m \u001b[39m\u001b[38;5;21mbuild_dataset\u001b[39m(dataset_opt):\n\u001b[1;32m     26\u001b[0m \u001b[38;5;250m    \u001b[39m\u001b[38;5;124;03m\"\"\"Build dataset from options.\u001b[39;00m\n\u001b[1;32m     27\u001b[0m \n\u001b[1;32m     28\u001b[0m \u001b[38;5;124;03m    Args:\u001b[39;00m\n\u001b[0;32m   (...)\u001b[0m\n\u001b[1;32m     31\u001b[0m \u001b[38;5;124;03m            type (str): Dataset type.\u001b[39;00m\n\u001b[1;32m     32\u001b[0m \u001b[38;5;124;03m    \"\"\"\u001b[39;00m\n",
      "File \u001b[0;32m/home/zeus/miniconda3/envs/cloudspace/lib/python3.10/site-packages/basicsr/data/__init__.py:22\u001b[0m, in \u001b[0;36m<listcomp>\u001b[0;34m(.0)\u001b[0m\n\u001b[1;32m     20\u001b[0m dataset_filenames \u001b[38;5;241m=\u001b[39m [osp\u001b[38;5;241m.\u001b[39msplitext(osp\u001b[38;5;241m.\u001b[39mbasename(v))[\u001b[38;5;241m0\u001b[39m] \u001b[38;5;28;01mfor\u001b[39;00m v \u001b[38;5;129;01min\u001b[39;00m scandir(data_folder) \u001b[38;5;28;01mif\u001b[39;00m v\u001b[38;5;241m.\u001b[39mendswith(\u001b[38;5;124m'\u001b[39m\u001b[38;5;124m_dataset.py\u001b[39m\u001b[38;5;124m'\u001b[39m)]\n\u001b[1;32m     21\u001b[0m \u001b[38;5;66;03m# import all the dataset modules\u001b[39;00m\n\u001b[0;32m---> 22\u001b[0m _dataset_modules \u001b[38;5;241m=\u001b[39m [\u001b[43mimportlib\u001b[49m\u001b[38;5;241;43m.\u001b[39;49m\u001b[43mimport_module\u001b[49m\u001b[43m(\u001b[49m\u001b[38;5;124;43mf\u001b[39;49m\u001b[38;5;124;43m'\u001b[39;49m\u001b[38;5;124;43mbasicsr.data.\u001b[39;49m\u001b[38;5;132;43;01m{\u001b[39;49;00m\u001b[43mfile_name\u001b[49m\u001b[38;5;132;43;01m}\u001b[39;49;00m\u001b[38;5;124;43m'\u001b[39;49m\u001b[43m)\u001b[49m \u001b[38;5;28;01mfor\u001b[39;00m file_name \u001b[38;5;129;01min\u001b[39;00m dataset_filenames]\n\u001b[1;32m     25\u001b[0m \u001b[38;5;28;01mdef\u001b[39;00m\u001b[38;5;250m \u001b[39m\u001b[38;5;21mbuild_dataset\u001b[39m(dataset_opt):\n\u001b[1;32m     26\u001b[0m \u001b[38;5;250m    \u001b[39m\u001b[38;5;124;03m\"\"\"Build dataset from options.\u001b[39;00m\n\u001b[1;32m     27\u001b[0m \n\u001b[1;32m     28\u001b[0m \u001b[38;5;124;03m    Args:\u001b[39;00m\n\u001b[0;32m   (...)\u001b[0m\n\u001b[1;32m     31\u001b[0m \u001b[38;5;124;03m            type (str): Dataset type.\u001b[39;00m\n\u001b[1;32m     32\u001b[0m \u001b[38;5;124;03m    \"\"\"\u001b[39;00m\n",
      "File \u001b[0;32m/home/zeus/miniconda3/envs/cloudspace/lib/python3.10/importlib/__init__.py:126\u001b[0m, in \u001b[0;36mimport_module\u001b[0;34m(name, package)\u001b[0m\n\u001b[1;32m    124\u001b[0m             \u001b[38;5;28;01mbreak\u001b[39;00m\n\u001b[1;32m    125\u001b[0m         level \u001b[38;5;241m+\u001b[39m\u001b[38;5;241m=\u001b[39m \u001b[38;5;241m1\u001b[39m\n\u001b[0;32m--> 126\u001b[0m \u001b[38;5;28;01mreturn\u001b[39;00m \u001b[43m_bootstrap\u001b[49m\u001b[38;5;241;43m.\u001b[39;49m\u001b[43m_gcd_import\u001b[49m\u001b[43m(\u001b[49m\u001b[43mname\u001b[49m\u001b[43m[\u001b[49m\u001b[43mlevel\u001b[49m\u001b[43m:\u001b[49m\u001b[43m]\u001b[49m\u001b[43m,\u001b[49m\u001b[43m \u001b[49m\u001b[43mpackage\u001b[49m\u001b[43m,\u001b[49m\u001b[43m \u001b[49m\u001b[43mlevel\u001b[49m\u001b[43m)\u001b[49m\n",
      "File \u001b[0;32m/home/zeus/miniconda3/envs/cloudspace/lib/python3.10/site-packages/basicsr/data/realesrgan_dataset.py:11\u001b[0m\n\u001b[1;32m      8\u001b[0m \u001b[38;5;28;01mimport\u001b[39;00m\u001b[38;5;250m \u001b[39m\u001b[38;5;21;01mtorch\u001b[39;00m\n\u001b[1;32m      9\u001b[0m \u001b[38;5;28;01mfrom\u001b[39;00m\u001b[38;5;250m \u001b[39m\u001b[38;5;21;01mtorch\u001b[39;00m\u001b[38;5;21;01m.\u001b[39;00m\u001b[38;5;21;01mutils\u001b[39;00m\u001b[38;5;250m \u001b[39m\u001b[38;5;28;01mimport\u001b[39;00m data \u001b[38;5;28;01mas\u001b[39;00m data\n\u001b[0;32m---> 11\u001b[0m \u001b[38;5;28;01mfrom\u001b[39;00m\u001b[38;5;250m \u001b[39m\u001b[38;5;21;01mbasicsr\u001b[39;00m\u001b[38;5;21;01m.\u001b[39;00m\u001b[38;5;21;01mdata\u001b[39;00m\u001b[38;5;21;01m.\u001b[39;00m\u001b[38;5;21;01mdegradations\u001b[39;00m\u001b[38;5;250m \u001b[39m\u001b[38;5;28;01mimport\u001b[39;00m circular_lowpass_kernel, random_mixed_kernels\n\u001b[1;32m     12\u001b[0m \u001b[38;5;28;01mfrom\u001b[39;00m\u001b[38;5;250m \u001b[39m\u001b[38;5;21;01mbasicsr\u001b[39;00m\u001b[38;5;21;01m.\u001b[39;00m\u001b[38;5;21;01mdata\u001b[39;00m\u001b[38;5;21;01m.\u001b[39;00m\u001b[38;5;21;01mtransforms\u001b[39;00m\u001b[38;5;250m \u001b[39m\u001b[38;5;28;01mimport\u001b[39;00m augment\n\u001b[1;32m     13\u001b[0m \u001b[38;5;28;01mfrom\u001b[39;00m\u001b[38;5;250m \u001b[39m\u001b[38;5;21;01mbasicsr\u001b[39;00m\u001b[38;5;21;01m.\u001b[39;00m\u001b[38;5;21;01mutils\u001b[39;00m\u001b[38;5;250m \u001b[39m\u001b[38;5;28;01mimport\u001b[39;00m FileClient, get_root_logger, imfrombytes, img2tensor\n",
      "File \u001b[0;32m/home/zeus/miniconda3/envs/cloudspace/lib/python3.10/site-packages/basicsr/data/degradations.py:8\u001b[0m\n\u001b[1;32m      6\u001b[0m \u001b[38;5;28;01mfrom\u001b[39;00m\u001b[38;5;250m \u001b[39m\u001b[38;5;21;01mscipy\u001b[39;00m\u001b[38;5;250m \u001b[39m\u001b[38;5;28;01mimport\u001b[39;00m special\n\u001b[1;32m      7\u001b[0m \u001b[38;5;28;01mfrom\u001b[39;00m\u001b[38;5;250m \u001b[39m\u001b[38;5;21;01mscipy\u001b[39;00m\u001b[38;5;21;01m.\u001b[39;00m\u001b[38;5;21;01mstats\u001b[39;00m\u001b[38;5;250m \u001b[39m\u001b[38;5;28;01mimport\u001b[39;00m multivariate_normal\n\u001b[0;32m----> 8\u001b[0m \u001b[38;5;28;01mfrom\u001b[39;00m\u001b[38;5;250m \u001b[39m\u001b[38;5;21;01mtorchvision\u001b[39;00m\u001b[38;5;21;01m.\u001b[39;00m\u001b[38;5;21;01mtransforms\u001b[39;00m\u001b[38;5;21;01m.\u001b[39;00m\u001b[38;5;21;01mfunctional_tensor\u001b[39;00m\u001b[38;5;250m \u001b[39m\u001b[38;5;28;01mimport\u001b[39;00m rgb_to_grayscale\n\u001b[1;32m     10\u001b[0m \u001b[38;5;66;03m# -------------------------------------------------------------------- #\u001b[39;00m\n\u001b[1;32m     11\u001b[0m \u001b[38;5;66;03m# --------------------------- blur kernels --------------------------- #\u001b[39;00m\n\u001b[1;32m     12\u001b[0m \u001b[38;5;66;03m# -------------------------------------------------------------------- #\u001b[39;00m\n\u001b[1;32m     13\u001b[0m \n\u001b[1;32m     14\u001b[0m \n\u001b[1;32m     15\u001b[0m \u001b[38;5;66;03m# --------------------------- util functions --------------------------- #\u001b[39;00m\n\u001b[1;32m     16\u001b[0m \u001b[38;5;28;01mdef\u001b[39;00m\u001b[38;5;250m \u001b[39m\u001b[38;5;21msigma_matrix2\u001b[39m(sig_x, sig_y, theta):\n",
      "\u001b[0;31mModuleNotFoundError\u001b[0m: No module named 'torchvision.transforms.functional_tensor'"
     ]
    }
   ],
   "source": [
    "# Install BasicSR if not already installed\n",
    "import sys\n",
    "import os\n",
    "import subprocess\n",
    "\n",
    "print(\"Installing BasicSR...\")\n",
    "%pip install basicsr\n",
    "print(\"BasicSR installed, importing modules...\")\n",
    "\n",
    "# After installation, we need to import modules\n",
    "from basicsr.utils import scandir\n",
    "from basicsr.utils.lmdb_util import make_lmdb_from_imgs\n",
    "import os.path as osp\n",
    "from tqdm.notebook import tqdm\n",
    "import cv2\n",
    "import numpy as np\n",
    "import time\n"
   ]
  },
  {
   "cell_type": "markdown",
   "id": "dcf769c1",
   "metadata": {},
   "source": [
    "## Make LMDB using BASICSR"
   ]
  },
  {
   "cell_type": "code",
   "execution_count": 6,
   "id": "0e56f3a0",
   "metadata": {},
   "outputs": [],
   "source": [
    "import os\n",
    "import glob\n",
    "from basicsr.utils.lmdb_util import make_lmdb_from_imgs\n",
    "\n",
    "def create_lmdb(data_dir, lmdb_path):\n",
    "    # Get list of image files\n",
    "    img_path_list = sorted(glob.glob(os.path.join(data_dir, '*.png')))\n",
    "    \n",
    "    # Generate keys from filenames (without extensions)\n",
    "    keys = [os.path.basename(img).split('.')[0] for img in img_path_list]\n",
    "    \n",
    "    print(\"Keys:\", keys[:10])  # Print first 10 keys for debugging\n",
    "    print(\"Image List:\", img_path_list[:10])  # Print first 10 image paths\n",
    "    # Create LMDB\n",
    "    make_lmdb_from_imgs(\n",
    "        data_path=data_dir,\n",
    "        lmdb_path=lmdb_path,\n",
    "        img_path_list=img_path_list,\n",
    "        keys=keys,\n",
    "        batch=5000,\n",
    "        compress_level=1,\n",
    "        multiprocessing_read=False,\n",
    "        n_thread=1,\n",
    "        map_size=None\n",
    "    )\n",
    "    print(f'LMDB dataset created at {lmdb_path}')\n",
    "    \n"
   ]
  },
  {
   "cell_type": "code",
   "execution_count": 4,
   "id": "7405c9a3",
   "metadata": {},
   "outputs": [],
   "source": [
    "\n",
    "# Define paths\n",
    "train_hr_folder = '/teamspace/studios/this_studio/sr_dataset/4_0x/train/HR'\n",
    "train_lr_folder = '/teamspace/studios/this_studio/sr_dataset/4_0x/train/LR'\n",
    "train_hr_lmdb = '/teamspace/studios/this_studio/sr_dataset/4_0x/train_lmdb/train_HR.lmdb'\n",
    "train_lr_lmdb = '/teamspace/studios/this_studio/sr_dataset/4_0x/train_lmdb/train_LR.lmdb'\n",
    "\n",
    "# Format of your images (png, jpg, etc.)\n",
    "img_format = 'png'  # Change this if you're using a different format\n"
   ]
  },
  {
   "cell_type": "code",
   "execution_count": 9,
   "id": "04956011",
   "metadata": {},
   "outputs": [
    {
     "name": "stdout",
     "output_type": "stream",
     "text": [
      "Keys: ['000086_VTXHD_frame000000', '000086_VTXHD_frame000001', '000086_VTXHD_frame000002', '000086_VTXHD_frame000003', '000086_VTXHD_frame000004', '000086_VTXHD_frame000005', '000086_VTXHD_frame000006', '000086_VTXHD_frame000007', '000086_VTXHD_frame000008', '000086_VTXHD_frame000009']\n",
      "Image List: ['/teamspace/studios/this_studio/sr_dataset/4_0x/train/HR/000086_VTXHD_frame000000.png', '/teamspace/studios/this_studio/sr_dataset/4_0x/train/HR/000086_VTXHD_frame000001.png', '/teamspace/studios/this_studio/sr_dataset/4_0x/train/HR/000086_VTXHD_frame000002.png', '/teamspace/studios/this_studio/sr_dataset/4_0x/train/HR/000086_VTXHD_frame000003.png', '/teamspace/studios/this_studio/sr_dataset/4_0x/train/HR/000086_VTXHD_frame000004.png', '/teamspace/studios/this_studio/sr_dataset/4_0x/train/HR/000086_VTXHD_frame000005.png', '/teamspace/studios/this_studio/sr_dataset/4_0x/train/HR/000086_VTXHD_frame000006.png', '/teamspace/studios/this_studio/sr_dataset/4_0x/train/HR/000086_VTXHD_frame000007.png', '/teamspace/studios/this_studio/sr_dataset/4_0x/train/HR/000086_VTXHD_frame000008.png', '/teamspace/studios/this_studio/sr_dataset/4_0x/train/HR/000086_VTXHD_frame000009.png']\n",
      "Create lmdb for /teamspace/studios/this_studio/sr_dataset/4_0x/train/HR, save to /teamspace/studios/this_studio/sr_dataset/4_0x/train_lmdb/train_HR.lmdb...\n",
      "Totoal images: 1365\n",
      "Data size per image is:  21576204\n"
     ]
    },
    {
     "name": "stderr",
     "output_type": "stream",
     "text": [
      "Write nature-31377-1080p_frame000016:  72%|███████▏  | 986/1365 [49:24<26:05,  4.13s/chunk]         "
     ]
    },
    {
     "ename": "",
     "evalue": "",
     "output_type": "error",
     "traceback": [
      "\u001b[1;31mThe Kernel crashed while executing code in the current cell or a previous cell. \n",
      "\u001b[1;31mPlease review the code in the cell(s) to identify a possible cause of the failure. \n",
      "\u001b[1;31mClick <a href='https://aka.ms/vscodeJupyterKernelCrash'>here</a> for more info. \n",
      "\u001b[1;31mView Jupyter <a href='command:jupyter.viewOutput'>log</a> for further details."
     ]
    }
   ],
   "source": [
    "create_lmdb(train_hr_folder, train_hr_lmdb)\n",
    "create_lmdb(train_lr_folder, train_lr_lmdb)"
   ]
  }
 ],
 "metadata": {
  "kernelspec": {
   "display_name": "Python 3",
   "language": "python",
   "name": "python3"
  },
  "language_info": {
   "codemirror_mode": {
    "name": "ipython",
    "version": 3
   },
   "file_extension": ".py",
   "mimetype": "text/x-python",
   "name": "python",
   "nbconvert_exporter": "python",
   "pygments_lexer": "ipython3",
   "version": "3.10.10"
  }
 },
 "nbformat": 4,
 "nbformat_minor": 5
}
